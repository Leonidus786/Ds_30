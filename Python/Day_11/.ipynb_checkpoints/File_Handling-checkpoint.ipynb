{
 "cells": [
  {
   "cell_type": "code",
   "execution_count": 2,
   "id": "57c10839-2a9a-4dae-9dbf-7ed1b69fe6a6",
   "metadata": {},
   "outputs": [],
   "source": [
    "f = open(\"demofile.txt\", \"rt\")"
   ]
  },
  {
   "cell_type": "code",
   "execution_count": 3,
   "id": "56275275-5f0d-4b14-a9d9-7c2e0f008c1a",
   "metadata": {},
   "outputs": [
    {
     "name": "stdout",
     "output_type": "stream",
     "text": [
      "Hello from a file.\n",
      "Hope u guys are doing good.\n"
     ]
    }
   ],
   "source": [
    "print(f.read())"
   ]
  },
  {
   "cell_type": "code",
   "execution_count": 5,
   "id": "7117511c-f752-42fb-92db-a4c7f8be3f0c",
   "metadata": {},
   "outputs": [],
   "source": [
    "t = open(\"C:/Users/SkillCircle/Downloads/chota_bheem.txt\", \"r\")"
   ]
  },
  {
   "cell_type": "code",
   "execution_count": 6,
   "id": "5f664860-7e71-44b6-b43e-3325319ac91a",
   "metadata": {},
   "outputs": [
    {
     "data": {
      "text/plain": [
       "'chin tapak dum dum'"
      ]
     },
     "execution_count": 6,
     "metadata": {},
     "output_type": "execute_result"
    }
   ],
   "source": [
    "t.read()"
   ]
  },
  {
   "cell_type": "code",
   "execution_count": 48,
   "id": "b3da2ff7-8735-4305-88c9-d78246bde1e5",
   "metadata": {},
   "outputs": [
    {
     "name": "stdout",
     "output_type": "stream",
     "text": [
      "Hello\n"
     ]
    }
   ],
   "source": [
    "f = open(\"demofile.txt\", \"rt\")\n",
    "print(f.read(5))"
   ]
  },
  {
   "cell_type": "code",
   "execution_count": 49,
   "id": "a50cc785-e437-4719-a1b6-e319ef35477b",
   "metadata": {},
   "outputs": [
    {
     "name": "stdout",
     "output_type": "stream",
     "text": [
      "Hello from a file.\n",
      "\n"
     ]
    }
   ],
   "source": [
    "f = open(\"demofile.txt\", \"r\")\n",
    "print(f.readline())"
   ]
  },
  {
   "cell_type": "code",
   "execution_count": 50,
   "id": "796406f5-f8bb-4691-9ac9-1db11e050bc7",
   "metadata": {},
   "outputs": [
    {
     "name": "stdout",
     "output_type": "stream",
     "text": [
      "Hello from a file.\n",
      "\n",
      "Hope u guys are doing good.\n",
      "\n"
     ]
    }
   ],
   "source": [
    "f = open(\"demofile.txt\", \"r\")\n",
    "print(f.readline())\n",
    "print(f.readline())"
   ]
  },
  {
   "cell_type": "code",
   "execution_count": 51,
   "id": "72688f8d-e8ae-43db-98dc-0ef7708b3d13",
   "metadata": {},
   "outputs": [
    {
     "name": "stdout",
     "output_type": "stream",
     "text": [
      "Hello from a file.\n",
      "\n",
      "Hope u guys are doing good.\n",
      "\n",
      "good Morning from a file.\n"
     ]
    }
   ],
   "source": [
    "f = open(\"demofile.txt\", \"r\")\n",
    "for x in f:\n",
    "  print(x)"
   ]
  },
  {
   "cell_type": "code",
   "execution_count": 52,
   "id": "5350b251-a37b-4466-b3b8-5414efb304d2",
   "metadata": {},
   "outputs": [],
   "source": [
    "f.close()"
   ]
  },
  {
   "cell_type": "code",
   "execution_count": 53,
   "id": "3d2b423c-3e5d-4b1d-aaad-36fa9916f58f",
   "metadata": {},
   "outputs": [],
   "source": [
    "t.close()"
   ]
  },
  {
   "cell_type": "code",
   "execution_count": 54,
   "id": "68fa04a9-a31a-40b1-9cf3-8ad83860cf54",
   "metadata": {},
   "outputs": [],
   "source": [
    "f = open(\"demofile2.txt\", \"a\")\n",
    "f.write(\"Now the file has more content!\")\n",
    "f.close()"
   ]
  },
  {
   "cell_type": "code",
   "execution_count": 55,
   "id": "3f7b47c9-5fb5-4913-a220-bf5a5d07df7c",
   "metadata": {},
   "outputs": [
    {
     "name": "stdout",
     "output_type": "stream",
     "text": [
      "Now the file has more content!\n"
     ]
    }
   ],
   "source": [
    "f = open(\"demofile2.txt\", \"r\")\n",
    "print(f.read())"
   ]
  },
  {
   "cell_type": "code",
   "execution_count": 56,
   "id": "977bc09e-7bea-4822-b822-68715510e2fd",
   "metadata": {},
   "outputs": [],
   "source": [
    "f = open(\"demofile3.txt\", \"w\")\n",
    "f.write(\"Woops! I have deleted the content!\")\n",
    "f.close()"
   ]
  },
  {
   "cell_type": "code",
   "execution_count": 60,
   "id": "dab2b101-33fa-4fa7-a16b-75dbd996899c",
   "metadata": {},
   "outputs": [
    {
     "data": {
      "text/plain": [
       "'Woops! I have deleted the content!'"
      ]
     },
     "execution_count": 60,
     "metadata": {},
     "output_type": "execute_result"
    }
   ],
   "source": [
    "f = open(\"demofile3.txt\", \"r\")\n",
    "f.read()"
   ]
  },
  {
   "cell_type": "code",
   "execution_count": 61,
   "id": "91a12de9-2571-4ec5-ad2a-92ca52967c5d",
   "metadata": {},
   "outputs": [],
   "source": [
    "f.close()"
   ]
  },
  {
   "cell_type": "code",
   "execution_count": 62,
   "id": "c7c14efe-ced1-480b-847d-f2ca180758e5",
   "metadata": {},
   "outputs": [],
   "source": [
    "import os"
   ]
  },
  {
   "cell_type": "code",
   "execution_count": 63,
   "id": "7e88f412-fcd1-467a-a6ab-056ef7a2fd11",
   "metadata": {},
   "outputs": [],
   "source": [
    "os.remove(\"demofile3.txt\")"
   ]
  },
  {
   "cell_type": "code",
   "execution_count": 64,
   "id": "e0e46886-1302-48d1-8cca-149b1e2a587c",
   "metadata": {},
   "outputs": [
    {
     "name": "stdout",
     "output_type": "stream",
     "text": [
      "The file does not exist\n"
     ]
    }
   ],
   "source": [
    "if os.path.exists(\"demofile3.txt\"):\n",
    "  os.remove(\"demofile3.txt\")\n",
    "else:\n",
    "  print(\"The file does not exist\")"
   ]
  },
  {
   "cell_type": "code",
   "execution_count": 65,
   "id": "00e0cfc0-040c-4eba-a57d-f6fe6de1961b",
   "metadata": {},
   "outputs": [],
   "source": [
    "os.rmdir(\"Dummy\")"
   ]
  },
  {
   "cell_type": "code",
   "execution_count": 66,
   "id": "82966597-17be-4b9d-b157-362cd311c150",
   "metadata": {},
   "outputs": [],
   "source": [
    "os.mkdir(\"PPP\")"
   ]
  },
  {
   "cell_type": "code",
   "execution_count": null,
   "id": "3442dda8-9078-4903-a228-6ea71adf10ba",
   "metadata": {},
   "outputs": [],
   "source": []
  }
 ],
 "metadata": {
  "kernelspec": {
   "display_name": "Python 3 (ipykernel)",
   "language": "python",
   "name": "python3"
  },
  "language_info": {
   "codemirror_mode": {
    "name": "ipython",
    "version": 3
   },
   "file_extension": ".py",
   "mimetype": "text/x-python",
   "name": "python",
   "nbconvert_exporter": "python",
   "pygments_lexer": "ipython3",
   "version": "3.11.7"
  }
 },
 "nbformat": 4,
 "nbformat_minor": 5
}
