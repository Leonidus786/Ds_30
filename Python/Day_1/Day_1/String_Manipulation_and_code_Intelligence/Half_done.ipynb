{
 "cells": [
  {
   "cell_type": "code",
   "execution_count": 2,
   "id": "4c82a78f-77a0-4e3c-a9be-0339721a59fb",
   "metadata": {},
   "outputs": [
    {
     "name": "stdout",
     "output_type": "stream",
     "text": [
      "Hello World!\n",
      "Hello World!\n",
      "Hello World!\n"
     ]
    }
   ],
   "source": [
    "# This is a single line comment. --- > ctrl + /\n",
    "\n",
    "# Here I have printed hello world three times\n",
    "\n",
    "print(\"Hello World!\")\n",
    "print(\"Hello World!\")\n",
    "print(\"Hello World!\")"
   ]
  },
  {
   "cell_type": "code",
   "execution_count": 5,
   "id": "6e679d2f-8ac5-413c-a7b9-40473400b38d",
   "metadata": {},
   "outputs": [
    {
     "name": "stdout",
     "output_type": "stream",
     "text": [
      "Hello World!\n",
      "Hello World!\n",
      "Hello World!\n"
     ]
    }
   ],
   "source": [
    "# Instead of writing this 3 times we can use \"\\n\" which is a new line character for doing the same\n",
    "# thing in a single line of code\n",
    "\n",
    "print(\"Hello World!\\nHello World!\\nHello World!\")\n"
   ]
  },
  {
   "cell_type": "code",
   "execution_count": 12,
   "id": "9acdcd2b-4d59-471b-927c-e6259fada30b",
   "metadata": {},
   "outputs": [
    {
     "ename": "IndentationError",
     "evalue": "unexpected indent (3948456096.py, line 17)",
     "output_type": "error",
     "traceback": [
      "\u001b[1;36m  Cell \u001b[1;32mIn[12], line 17\u001b[1;36m\u001b[0m\n\u001b[1;33m    print(\"Hello World\") #this would give a error\u001b[0m\n\u001b[1;37m    ^\u001b[0m\n\u001b[1;31mIndentationError\u001b[0m\u001b[1;31m:\u001b[0m unexpected indent\n"
     ]
    }
   ],
   "source": [
    "# String --> Set of characters is called strings.\n",
    "# Amit = 2\n",
    "# print(type(Amit))\n",
    "\n",
    "# name = str('Amit')   #using str method\n",
    "# print(type(name))\n",
    "\n",
    "\n",
    "# print(\"Hello\" + \"Abhishek\")  # There should be a space in between two words.\n",
    "\n",
    "#This would do the same with a space between two words.\n",
    "# print(\"Hello \" + \"Abhishek\") #Space in hello\n",
    "# print(\"Hello\" + \" Abhishek\") # Space before name\n",
    "# print(\"Hello\" + \" \" +\"Abhishek\") # Space in between two words\n",
    "\n",
    "# Spaces in python are quite important \n",
    "        # print(\"Hello World\") #this would give a error\n",
    "\n",
    "\n",
    "# input() will get user input in console\n",
    "# Then print() will print the word \"Hello\" and the user input\n",
    "# print(\"Hello \" + input(\"What is your name?\"))\n",
    "\n",
    "\n",
    "# print(\"hello \" +input(\"what is your mail id? \"))"
   ]
  }
 ],
 "metadata": {
  "kernelspec": {
   "display_name": "Python 3 (ipykernel)",
   "language": "python",
   "name": "python3"
  },
  "language_info": {
   "codemirror_mode": {
    "name": "ipython",
    "version": 3
   },
   "file_extension": ".py",
   "mimetype": "text/x-python",
   "name": "python",
   "nbconvert_exporter": "python",
   "pygments_lexer": "ipython3",
   "version": "3.11.7"
  }
 },
 "nbformat": 4,
 "nbformat_minor": 5
}
