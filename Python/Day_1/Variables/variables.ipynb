{
 "cells": [
  {
   "cell_type": "code",
   "execution_count": 1,
   "id": "af2d4a9c-5dbe-4dc7-b3d4-d671d0078381",
   "metadata": {},
   "outputs": [],
   "source": [
    "# How to declare a variable\n",
    "\n",
    "name = \"Amit\"\n",
    "My_Number = 7728041227\n",
    "My_Result = 50.1\n",
    "Bunk = False"
   ]
  },
  {
   "cell_type": "code",
   "execution_count": 3,
   "id": "ebf80ecb-76d3-42a4-ba58-bf4d6740c234",
   "metadata": {},
   "outputs": [
    {
     "data": {
      "text/plain": [
       "'Amit'"
      ]
     },
     "execution_count": 3,
     "metadata": {},
     "output_type": "execute_result"
    }
   ],
   "source": [
    "# this isn't recommended.\n",
    "name"
   ]
  },
  {
   "cell_type": "markdown",
   "id": "1de2526b-bda5-446e-bff6-d84338d247e9",
   "metadata": {},
   "source": [
    "## type() - ye data ki type btata h\n",
    "### It will tell you what type of value your variable is holding."
   ]
  },
  {
   "cell_type": "code",
   "execution_count": 4,
   "id": "36d7eed2-4436-4ef8-933e-d1924aec6e38",
   "metadata": {},
   "outputs": [
    {
     "name": "stdout",
     "output_type": "stream",
     "text": [
      "Amit\n",
      "<class 'str'>\n"
     ]
    }
   ],
   "source": [
    "print(name)\n",
    "print(type(name))"
   ]
  },
  {
   "cell_type": "markdown",
   "id": "70b1f1e0-3639-45d2-b865-e94d6fddae9b",
   "metadata": {},
   "source": [
    "## len() -- it will give you the length of a string, sequence, mapping, set."
   ]
  },
  {
   "cell_type": "code",
   "execution_count": 5,
   "id": "35b12fc2-2bf6-4343-b511-9048b8f20808",
   "metadata": {},
   "outputs": [
    {
     "data": {
      "text/plain": [
       "4"
      ]
     },
     "execution_count": 5,
     "metadata": {},
     "output_type": "execute_result"
    }
   ],
   "source": [
    "len(name)"
   ]
  },
  {
   "cell_type": "code",
   "execution_count": 6,
   "id": "b3d74b48-2563-4580-9892-164cf97ccc5b",
   "metadata": {},
   "outputs": [
    {
     "name": "stdout",
     "output_type": "stream",
     "text": [
      "7728041227\n",
      "<class 'int'>\n"
     ]
    }
   ],
   "source": [
    "print(My_Number)\n",
    "print(type(My_Number))"
   ]
  },
  {
   "cell_type": "code",
   "execution_count": 7,
   "id": "62548d38-e9be-485d-be26-1a6e68b9ce1d",
   "metadata": {},
   "outputs": [
    {
     "name": "stdout",
     "output_type": "stream",
     "text": [
      "50.1\n",
      "<class 'float'>\n"
     ]
    }
   ],
   "source": [
    "print(My_Result)\n",
    "print(type(My_Result))"
   ]
  },
  {
   "cell_type": "code",
   "execution_count": 9,
   "id": "d0e59a32-c980-47d5-95bf-1c28ea03efeb",
   "metadata": {},
   "outputs": [
    {
     "name": "stdout",
     "output_type": "stream",
     "text": [
      "False\n",
      "<class 'bool'>\n"
     ]
    }
   ],
   "source": [
    "print(Bunk)\n",
    "print(type(Bunk))"
   ]
  },
  {
   "cell_type": "code",
   "execution_count": 10,
   "id": "76ad2bb7-84ab-483b-a557-a638198fcec5",
   "metadata": {},
   "outputs": [],
   "source": [
    "Var_Name = \"Snake Case\""
   ]
  },
  {
   "cell_type": "code",
   "execution_count": 11,
   "id": "0ccc8f9a-dce8-4404-bca3-e10d49b51bc0",
   "metadata": {},
   "outputs": [
    {
     "data": {
      "text/plain": [
       "'Snake Case'"
      ]
     },
     "execution_count": 11,
     "metadata": {},
     "output_type": "execute_result"
    }
   ],
   "source": [
    "Var_Name"
   ]
  },
  {
   "cell_type": "code",
   "execution_count": 12,
   "id": "8d773460-6014-41ec-ba18-6f24e98e3c63",
   "metadata": {},
   "outputs": [],
   "source": [
    "import keyword"
   ]
  },
  {
   "cell_type": "code",
   "execution_count": 13,
   "id": "95609bd3-281d-4ed3-8aae-10eafca1f739",
   "metadata": {},
   "outputs": [
    {
     "name": "stdout",
     "output_type": "stream",
     "text": [
      "['False', 'None', 'True', 'and', 'as', 'assert', 'async', 'await', 'break', 'class', 'continue', 'def', 'del', 'elif', 'else', 'except', 'finally', 'for', 'from', 'global', 'if', 'import', 'in', 'is', 'lambda', 'nonlocal', 'not', 'or', 'pass', 'raise', 'return', 'try', 'while', 'with', 'yield']\n"
     ]
    }
   ],
   "source": [
    "print(keyword.kwlist)"
   ]
  },
  {
   "cell_type": "code",
   "execution_count": 14,
   "id": "ab94951f-f032-4655-80b4-1be6692bb30b",
   "metadata": {},
   "outputs": [],
   "source": [
    "and_my = 76"
   ]
  },
  {
   "cell_type": "code",
   "execution_count": 15,
   "id": "7b3b559f-2f1b-4d9c-b155-72a728c85906",
   "metadata": {},
   "outputs": [],
   "source": [
    "A, b, C = \"Kaha\", \"gyi\", 'Thi'"
   ]
  },
  {
   "cell_type": "code",
   "execution_count": 16,
   "id": "978f49a3-7a9b-4b34-846e-dcda87ba4935",
   "metadata": {},
   "outputs": [
    {
     "data": {
      "text/plain": [
       "'Kaha'"
      ]
     },
     "execution_count": 16,
     "metadata": {},
     "output_type": "execute_result"
    }
   ],
   "source": [
    "A"
   ]
  },
  {
   "cell_type": "code",
   "execution_count": 17,
   "id": "99abba0f-0d14-4bee-9802-d057b9a6fe29",
   "metadata": {},
   "outputs": [
    {
     "data": {
      "text/plain": [
       "'gyi'"
      ]
     },
     "execution_count": 17,
     "metadata": {},
     "output_type": "execute_result"
    }
   ],
   "source": [
    "b"
   ]
  },
  {
   "cell_type": "code",
   "execution_count": 18,
   "id": "b86f6b29-351c-4fae-a77d-82f2daecb6a4",
   "metadata": {},
   "outputs": [
    {
     "data": {
      "text/plain": [
       "'Thi'"
      ]
     },
     "execution_count": 18,
     "metadata": {},
     "output_type": "execute_result"
    }
   ],
   "source": [
    "C"
   ]
  },
  {
   "cell_type": "code",
   "execution_count": 19,
   "id": "e60004ed-5033-4cbe-bb72-4e512964e325",
   "metadata": {},
   "outputs": [
    {
     "ename": "ValueError",
     "evalue": "too many values to unpack (expected 2)",
     "output_type": "error",
     "traceback": [
      "\u001b[1;31m---------------------------------------------------------------------------\u001b[0m",
      "\u001b[1;31mValueError\u001b[0m                                Traceback (most recent call last)",
      "Cell \u001b[1;32mIn[19], line 1\u001b[0m\n\u001b[1;32m----> 1\u001b[0m A, b \u001b[38;5;241m=\u001b[39m \u001b[38;5;124m\"\u001b[39m\u001b[38;5;124mKaha\u001b[39m\u001b[38;5;124m\"\u001b[39m, \u001b[38;5;124m\"\u001b[39m\u001b[38;5;124mgyi\u001b[39m\u001b[38;5;124m\"\u001b[39m, \u001b[38;5;124m'\u001b[39m\u001b[38;5;124mThi\u001b[39m\u001b[38;5;124m'\u001b[39m\n",
      "\u001b[1;31mValueError\u001b[0m: too many values to unpack (expected 2)"
     ]
    }
   ],
   "source": [
    "A, b = \"Kaha\", \"gyi\", 'Thi'"
   ]
  },
  {
   "cell_type": "code",
   "execution_count": 20,
   "id": "7476b4ee-868e-486a-808e-4acd3f133737",
   "metadata": {},
   "outputs": [
    {
     "ename": "ValueError",
     "evalue": "not enough values to unpack (expected 3, got 2)",
     "output_type": "error",
     "traceback": [
      "\u001b[1;31m---------------------------------------------------------------------------\u001b[0m",
      "\u001b[1;31mValueError\u001b[0m                                Traceback (most recent call last)",
      "Cell \u001b[1;32mIn[20], line 1\u001b[0m\n\u001b[1;32m----> 1\u001b[0m A, b, C \u001b[38;5;241m=\u001b[39m \u001b[38;5;124m\"\u001b[39m\u001b[38;5;124mKaha\u001b[39m\u001b[38;5;124m\"\u001b[39m, \u001b[38;5;124m\"\u001b[39m\u001b[38;5;124mgyi\u001b[39m\u001b[38;5;124m\"\u001b[39m\n",
      "\u001b[1;31mValueError\u001b[0m: not enough values to unpack (expected 3, got 2)"
     ]
    }
   ],
   "source": [
    "A, b, C = \"Kaha\", \"gyi\""
   ]
  },
  {
   "cell_type": "code",
   "execution_count": 23,
   "id": "dc914f0d-a211-4579-83a0-f22c6a111a0b",
   "metadata": {},
   "outputs": [
    {
     "name": "stdout",
     "output_type": "stream",
     "text": [
      "Kaha gyi Thi\n"
     ]
    }
   ],
   "source": [
    "print(A, b, C)\n",
    "\n",
    "# this line will generate a type error\n",
    "# print(type(A, b, C))"
   ]
  },
  {
   "cell_type": "code",
   "execution_count": 24,
   "id": "f1d39286-7e0e-4c98-b713-e8ae18635388",
   "metadata": {},
   "outputs": [],
   "source": [
    "D = E = F = 'Fail'"
   ]
  },
  {
   "cell_type": "code",
   "execution_count": 25,
   "id": "aadc5dde-949e-42c8-a461-00dc7150095e",
   "metadata": {},
   "outputs": [
    {
     "data": {
      "text/plain": [
       "'Fail'"
      ]
     },
     "execution_count": 25,
     "metadata": {},
     "output_type": "execute_result"
    }
   ],
   "source": [
    "D"
   ]
  },
  {
   "cell_type": "code",
   "execution_count": 26,
   "id": "59a8805d-f603-4f19-8a7e-d3cc73723a14",
   "metadata": {},
   "outputs": [
    {
     "data": {
      "text/plain": [
       "'Fail'"
      ]
     },
     "execution_count": 26,
     "metadata": {},
     "output_type": "execute_result"
    }
   ],
   "source": [
    "E"
   ]
  },
  {
   "cell_type": "code",
   "execution_count": 27,
   "id": "2d90c3fc-f0a4-4668-bd1f-0c28ff5e35be",
   "metadata": {},
   "outputs": [
    {
     "data": {
      "text/plain": [
       "'Fail'"
      ]
     },
     "execution_count": 27,
     "metadata": {},
     "output_type": "execute_result"
    }
   ],
   "source": [
    "F"
   ]
  }
 ],
 "metadata": {
  "kernelspec": {
   "display_name": "Python 3 (ipykernel)",
   "language": "python",
   "name": "python3"
  },
  "language_info": {
   "codemirror_mode": {
    "name": "ipython",
    "version": 3
   },
   "file_extension": ".py",
   "mimetype": "text/x-python",
   "name": "python",
   "nbconvert_exporter": "python",
   "pygments_lexer": "ipython3",
   "version": "3.11.7"
  }
 },
 "nbformat": 4,
 "nbformat_minor": 5
}
