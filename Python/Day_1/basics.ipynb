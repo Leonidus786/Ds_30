{
 "cells": [
  {
   "cell_type": "code",
   "execution_count": 2,
   "id": "3fe50871-9991-47a3-99e6-8b960a104dfe",
   "metadata": {},
   "outputs": [
    {
     "name": "stdout",
     "output_type": "stream",
     "text": [
      "Hello, World!\n"
     ]
    }
   ],
   "source": [
    "print(\"Hello, World!\") # to run press shift + enter/ ctrl + enter"
   ]
  },
  {
   "cell_type": "code",
   "execution_count": 3,
   "id": "08ab6dd3-ac2e-42fa-8b8b-3713c0915d80",
   "metadata": {},
   "outputs": [
    {
     "name": "stdout",
     "output_type": "stream",
     "text": [
      "Amit\n"
     ]
    }
   ],
   "source": [
    "print(\"Amit\")"
   ]
  },
  {
   "cell_type": "markdown",
   "id": "7c1d43ad-8b65-41c3-91a6-afc8d41ec1b5",
   "metadata": {},
   "source": [
    "## print() ---> Output function/method in python."
   ]
  },
  {
   "cell_type": "code",
   "execution_count": 4,
   "id": "a91ffa74-325f-4087-b9fd-0a9f96876023",
   "metadata": {},
   "outputs": [
    {
     "name": "stdout",
     "output_type": "stream",
     "text": [
      "What is Your Name? \n"
     ]
    }
   ],
   "source": [
    "print(\"What is Your Name? \")"
   ]
  },
  {
   "cell_type": "code",
   "execution_count": 5,
   "id": "2516e703-6d05-4bde-937e-50511ae144fe",
   "metadata": {},
   "outputs": [
    {
     "name": "stdin",
     "output_type": "stream",
     "text": [
      "What is Your Name?  Abhishek\n"
     ]
    },
    {
     "data": {
      "text/plain": [
       "'Abhishek'"
      ]
     },
     "execution_count": 5,
     "metadata": {},
     "output_type": "execute_result"
    }
   ],
   "source": [
    "input(\"What is Your Name? \")"
   ]
  },
  {
   "cell_type": "code",
   "execution_count": 6,
   "id": "d9645fef-8be1-428d-bd71-a92c5c8366db",
   "metadata": {},
   "outputs": [
    {
     "name": "stdout",
     "output_type": "stream",
     "text": [
      "8\n"
     ]
    }
   ],
   "source": [
    "print(len(\"Abhishek\"))"
   ]
  },
  {
   "cell_type": "code",
   "execution_count": null,
   "id": "7a6bf7f9-d451-485f-99b6-109a74587262",
   "metadata": {},
   "outputs": [],
   "source": []
  }
 ],
 "metadata": {
  "kernelspec": {
   "display_name": "Python 3 (ipykernel)",
   "language": "python",
   "name": "python3"
  },
  "language_info": {
   "codemirror_mode": {
    "name": "ipython",
    "version": 3
   },
   "file_extension": ".py",
   "mimetype": "text/x-python",
   "name": "python",
   "nbconvert_exporter": "python",
   "pygments_lexer": "ipython3",
   "version": "3.11.7"
  }
 },
 "nbformat": 4,
 "nbformat_minor": 5
}
