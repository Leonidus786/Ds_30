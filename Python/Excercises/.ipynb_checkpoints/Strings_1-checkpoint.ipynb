{
 "cells": [
  {
   "cell_type": "code",
   "execution_count": 1,
   "id": "2a89b032-3bd0-4986-9d17-cbd058c49560",
   "metadata": {},
   "outputs": [],
   "source": [
    "# 026 Pig Latin takes the first consonant of a word, moves it\n",
    "# to the end of the word and adds on an “ay”. If a word\n",
    "# begins with a vowel you just add “way” to the end. For\n",
    "# example, pig becomes igpay, banana becomes ananabay,\n",
    "# and aadvark becomes aadvarkway. Create a program that\n",
    "# will ask the user to enter a word and change it into Pig\n",
    "# Latin. Make sure the new word is displayed in lower case."
   ]
  },
  {
   "cell_type": "code",
   "execution_count": 3,
   "id": "11397177-9e07-4d90-ae95-bfd523e534fc",
   "metadata": {},
   "outputs": [
    {
     "name": "stdin",
     "output_type": "stream",
     "text": [
      "Please Enter a Word:  aabrakadabra\n"
     ]
    },
    {
     "name": "stdout",
     "output_type": "stream",
     "text": [
      "aabrakadabraway\n"
     ]
    }
   ],
   "source": [
    "word = input(\"Please Enter a Word: \")\n",
    "first = word[0]\n",
    "length = len(word)\n",
    "rest = word[1:length]\n",
    "if first != \"a\" and first != \"e\" and first != \"i\" and first != \"o\" and first != \"u\":\n",
    "    newword = rest + first + \"ay\"\n",
    "else:\n",
    "    newword = word + \"way\"\n",
    "print(newword.lower())"
   ]
  }
 ],
 "metadata": {
  "kernelspec": {
   "display_name": "Python 3 (ipykernel)",
   "language": "python",
   "name": "python3"
  },
  "language_info": {
   "codemirror_mode": {
    "name": "ipython",
    "version": 3
   },
   "file_extension": ".py",
   "mimetype": "text/x-python",
   "name": "python",
   "nbconvert_exporter": "python",
   "pygments_lexer": "ipython3",
   "version": "3.11.7"
  }
 },
 "nbformat": 4,
 "nbformat_minor": 5
}
