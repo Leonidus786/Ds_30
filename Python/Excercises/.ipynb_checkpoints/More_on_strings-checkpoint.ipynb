{
 "cells": [
  {
   "cell_type": "code",
   "execution_count": 1,
   "id": "023cd3b2-7d0d-4685-b6ab-34e22d99e411",
   "metadata": {},
   "outputs": [],
   "source": [
    "# 080 Ask the user to enter their first name and then\n",
    "# display the length of their first name. Then ask for\n",
    "# their surname and display the length of their\n",
    "# surname. Join their first name and surname together\n",
    "# with a space between and display the result. Finally,\n",
    "# display the length of their full name (including the\n",
    "# space)."
   ]
  },
  {
   "cell_type": "code",
   "execution_count": 2,
   "id": "8e9f649e-f94a-4429-9c6a-8132e518dd0a",
   "metadata": {},
   "outputs": [
    {
     "name": "stdin",
     "output_type": "stream",
     "text": [
      "enter your first name:  Abhishek\n"
     ]
    },
    {
     "name": "stdout",
     "output_type": "stream",
     "text": [
      "That has 8 characters in it.\n"
     ]
    },
    {
     "name": "stdin",
     "output_type": "stream",
     "text": [
      "Enter your surname:  Upadhayay\n"
     ]
    },
    {
     "name": "stdout",
     "output_type": "stream",
     "text": [
      "That has 9 characters in it.\n",
      "Your full name is Abhishek Upadhayay\n",
      "That has 18 characters in it.\n"
     ]
    }
   ],
   "source": [
    "fname = input(\"enter your first name: \")\n",
    "print(\"That has\", len(fname),\"characters in it.\")\n",
    "\n",
    "sname = input(\"Enter your surname: \")\n",
    "print(\"That has\", len(sname),\"characters in it.\")\n",
    "\n",
    "name = fname + \" \" + sname\n",
    "print(\"Your full name is\",name)\n",
    "print(\"That has\", len(name),\"characters in it.\")"
   ]
  },
  {
   "cell_type": "code",
   "execution_count": null,
   "id": "35683521-6fc5-4d28-8078-cf5dfc182632",
   "metadata": {},
   "outputs": [],
   "source": []
  }
 ],
 "metadata": {
  "kernelspec": {
   "display_name": "Python 3 (ipykernel)",
   "language": "python",
   "name": "python3"
  },
  "language_info": {
   "codemirror_mode": {
    "name": "ipython",
    "version": 3
   },
   "file_extension": ".py",
   "mimetype": "text/x-python",
   "name": "python",
   "nbconvert_exporter": "python",
   "pygments_lexer": "ipython3",
   "version": "3.11.7"
  }
 },
 "nbformat": 4,
 "nbformat_minor": 5
}
