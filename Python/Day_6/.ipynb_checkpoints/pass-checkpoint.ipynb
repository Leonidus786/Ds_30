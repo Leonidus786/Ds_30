{
 "cells": [
  {
   "cell_type": "code",
   "execution_count": 2,
   "id": "f1310ca4-8a2e-46bc-b837-df98b05b8bcf",
   "metadata": {},
   "outputs": [],
   "source": [
    "a = 33\n",
    "b = 200\n",
    "\n",
    "if b > a:\n",
    "    pass"
   ]
  }
 ],
 "metadata": {
  "kernelspec": {
   "display_name": "Python 3 (ipykernel)",
   "language": "python",
   "name": "python3"
  },
  "language_info": {
   "codemirror_mode": {
    "name": "ipython",
    "version": 3
   },
   "file_extension": ".py",
   "mimetype": "text/x-python",
   "name": "python",
   "nbconvert_exporter": "python",
   "pygments_lexer": "ipython3",
   "version": "3.11.7"
  }
 },
 "nbformat": 4,
 "nbformat_minor": 5
}
