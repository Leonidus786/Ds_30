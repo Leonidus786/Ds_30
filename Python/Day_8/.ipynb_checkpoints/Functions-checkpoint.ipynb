{
 "cells": [
  {
   "cell_type": "code",
   "execution_count": 1,
   "id": "98ec6f21-420d-4d1c-a0ab-14984a737ed0",
   "metadata": {},
   "outputs": [],
   "source": [
    "# Function --> A special block of code writeen to perform a specific task."
   ]
  },
  {
   "cell_type": "code",
   "execution_count": 2,
   "id": "9bb8d66f-3b68-4c95-9040-a3d74b18a848",
   "metadata": {},
   "outputs": [],
   "source": [
    "# Real life example : -- bank's calculate intrests."
   ]
  },
  {
   "cell_type": "code",
   "execution_count": 3,
   "id": "1f2ffe91-c381-4001-834d-5b2ab45645fb",
   "metadata": {},
   "outputs": [],
   "source": [
    "# Simple Intrest = (P * R * T)/100"
   ]
  },
  {
   "cell_type": "code",
   "execution_count": 6,
   "id": "13e84dfc-3915-4290-9093-01fc880cee80",
   "metadata": {},
   "outputs": [],
   "source": [
    "# Syntax\n",
    "\n",
    "def Function_Name(Parameters):\n",
    "    return Value"
   ]
  },
  {
   "cell_type": "code",
   "execution_count": 7,
   "id": "2d240822-dd9a-4c0f-95fb-1613956af124",
   "metadata": {},
   "outputs": [],
   "source": [
    "def simple_intrest(P, R, T):\n",
    "    return ((P * R * T)/100)\n",
    "    # print((P * R * T)/100)"
   ]
  },
  {
   "cell_type": "code",
   "execution_count": 10,
   "id": "81f2f934-3c9a-49f4-8c2d-4fef153d3616",
   "metadata": {},
   "outputs": [
    {
     "data": {
      "text/plain": [
       "2625.0"
      ]
     },
     "execution_count": 10,
     "metadata": {},
     "output_type": "execute_result"
    }
   ],
   "source": [
    "simple_intrest(P = 5000, R = 10.5, T = 5)"
   ]
  },
  {
   "cell_type": "code",
   "execution_count": 11,
   "id": "73f7ad7c-2950-48b5-90c3-456635151015",
   "metadata": {},
   "outputs": [
    {
     "data": {
      "text/plain": [
       "2625.0"
      ]
     },
     "execution_count": 11,
     "metadata": {},
     "output_type": "execute_result"
    }
   ],
   "source": [
    "simple_intrest(5000, 10.5, 5)"
   ]
  },
  {
   "cell_type": "code",
   "execution_count": 15,
   "id": "432553f7-45c5-49c7-85f5-73dfedbf900b",
   "metadata": {},
   "outputs": [],
   "source": [
    "def my_function():\n",
    "  print(\"Hello from a function\")"
   ]
  },
  {
   "cell_type": "code",
   "execution_count": 16,
   "id": "6f8919d9-388d-42ad-88ac-a5d429888517",
   "metadata": {},
   "outputs": [
    {
     "name": "stdout",
     "output_type": "stream",
     "text": [
      "Hello from a function\n"
     ]
    }
   ],
   "source": [
    "my_function()"
   ]
  },
  {
   "cell_type": "code",
   "execution_count": 17,
   "id": "30c981eb-ad43-4883-9d6c-f6ebefcb6648",
   "metadata": {},
   "outputs": [
    {
     "name": "stdout",
     "output_type": "stream",
     "text": [
      "Emil Refsnes\n",
      "Tobias Refsnes\n",
      "Linus Refsnes\n"
     ]
    }
   ],
   "source": [
    "def my_function(fname):\n",
    "  print(fname + \" Refsnes\")\n",
    "\n",
    "my_function(\"Emil\")\n",
    "my_function(\"Tobias\")\n",
    "my_function(\"Linus\")"
   ]
  },
  {
   "cell_type": "code",
   "execution_count": 18,
   "id": "ada5b68c-9c6a-4ebb-b8a7-d6e27c33acfc",
   "metadata": {},
   "outputs": [],
   "source": [
    "def multiply(a, b, c):\n",
    "    print(a * b * c)"
   ]
  },
  {
   "cell_type": "code",
   "execution_count": 19,
   "id": "24747ea7-c57f-4bd0-9469-9747b7f86c30",
   "metadata": {},
   "outputs": [
    {
     "ename": "TypeError",
     "evalue": "multiply() missing 1 required positional argument: 'c'",
     "output_type": "error",
     "traceback": [
      "\u001b[1;31m---------------------------------------------------------------------------\u001b[0m",
      "\u001b[1;31mTypeError\u001b[0m                                 Traceback (most recent call last)",
      "Cell \u001b[1;32mIn[19], line 1\u001b[0m\n\u001b[1;32m----> 1\u001b[0m multiply(\u001b[38;5;241m2\u001b[39m,\u001b[38;5;241m7\u001b[39m)\n",
      "\u001b[1;31mTypeError\u001b[0m: multiply() missing 1 required positional argument: 'c'"
     ]
    }
   ],
   "source": [
    "multiply(2,7)"
   ]
  },
  {
   "cell_type": "code",
   "execution_count": 20,
   "id": "ec0282c0-01e8-4948-af6d-6bd18453f4df",
   "metadata": {},
   "outputs": [
    {
     "name": "stdout",
     "output_type": "stream",
     "text": [
      "126\n"
     ]
    }
   ],
   "source": [
    "multiply(2,7,9)"
   ]
  },
  {
   "cell_type": "code",
   "execution_count": 21,
   "id": "f82843f5-808b-4da7-8270-1e6b1c6730d2",
   "metadata": {},
   "outputs": [],
   "source": [
    "def multiply(a, b, c):\n",
    "    pass"
   ]
  },
  {
   "cell_type": "code",
   "execution_count": 22,
   "id": "04082482-f5ab-4b09-9557-37ab37f8fa69",
   "metadata": {},
   "outputs": [
    {
     "name": "stdout",
     "output_type": "stream",
     "text": [
      "The youngest child is Linus\n"
     ]
    }
   ],
   "source": [
    "def my_function(*kids):\n",
    "  print(\"The youngest child is \" + kids[2])\n",
    "\n",
    "my_function(\"Emil\", \"Tobias\", \"Linus\")"
   ]
  },
  {
   "cell_type": "code",
   "execution_count": 23,
   "id": "a457b744-c4bf-4b64-b75d-d6eb6e6a833f",
   "metadata": {},
   "outputs": [
    {
     "name": "stdout",
     "output_type": "stream",
     "text": [
      "The youngest child is Linus\n"
     ]
    }
   ],
   "source": [
    "def my_function(child3, child2, child1):\n",
    "  print(\"The youngest child is \" + child3)\n",
    "\n",
    "my_function(child1 = \"Emil\", child2 = \"Tobias\", child3 = \"Linus\")"
   ]
  },
  {
   "cell_type": "code",
   "execution_count": 24,
   "id": "7b2ddfcd-40b3-4a8a-8318-d2edd825e2b5",
   "metadata": {},
   "outputs": [
    {
     "name": "stdout",
     "output_type": "stream",
     "text": [
      "His last name is Refsnes\n"
     ]
    }
   ],
   "source": [
    "def my_function(**kid):\n",
    "  print(\"His last name is \" + kid[\"lname\"])\n",
    "\n",
    "my_function(fname = \"Tobias\", lname = \"Refsnes\")"
   ]
  },
  {
   "cell_type": "code",
   "execution_count": 25,
   "id": "e05023b1-107d-4fca-88ba-bd69147746c5",
   "metadata": {},
   "outputs": [
    {
     "name": "stdout",
     "output_type": "stream",
     "text": [
      "I am from Sweden\n",
      "I am from India\n",
      "I am from Norway\n",
      "I am from Brazil\n"
     ]
    }
   ],
   "source": [
    "def my_function(country = \"Norway\"):\n",
    "  print(\"I am from \" + country)\n",
    "\n",
    "my_function(\"Sweden\")\n",
    "my_function(\"India\")\n",
    "my_function()\n",
    "my_function(\"Brazil\")"
   ]
  },
  {
   "cell_type": "code",
   "execution_count": 26,
   "id": "b2c8c9ae-9ef2-4e4f-b73e-2754906d3e4f",
   "metadata": {},
   "outputs": [
    {
     "name": "stdout",
     "output_type": "stream",
     "text": [
      "apple\n",
      "banana\n",
      "cherry\n"
     ]
    }
   ],
   "source": [
    "def my_function(food):\n",
    "  for x in food:\n",
    "    print(x)\n",
    "\n",
    "fruits = [\"apple\", \"banana\", \"cherry\"]\n",
    "\n",
    "my_function(fruits)"
   ]
  },
  {
   "cell_type": "code",
   "execution_count": 27,
   "id": "dc301b8e-b684-47d3-9daa-50c9e83ff40d",
   "metadata": {},
   "outputs": [
    {
     "name": "stdout",
     "output_type": "stream",
     "text": [
      "15\n",
      "25\n",
      "45\n"
     ]
    }
   ],
   "source": [
    "def my_function(x):\n",
    "  return 5 * x\n",
    "\n",
    "print(my_function(3))\n",
    "print(my_function(5))\n",
    "print(my_function(9))"
   ]
  },
  {
   "cell_type": "code",
   "execution_count": 28,
   "id": "84fbcb97-0bf6-4bf4-ae55-3dd27ca1e839",
   "metadata": {},
   "outputs": [
    {
     "name": "stdout",
     "output_type": "stream",
     "text": [
      "The factorial of 7 is 5040\n"
     ]
    }
   ],
   "source": [
    "# Factorial of a number using recursion\n",
    "\n",
    "def recur_factorial(n):\n",
    "   if n == 1:\n",
    "       return n\n",
    "   else:\n",
    "       return n*recur_factorial(n-1)\n",
    "\n",
    "num = 7\n",
    "\n",
    "# check if the number is negative\n",
    "if num < 0:\n",
    "   print(\"Sorry, factorial does not exist for negative numbers\")\n",
    "elif num == 0:\n",
    "   print(\"The factorial of 0 is 1\")\n",
    "else:\n",
    "   print(\"The factorial of\", num, \"is\", recur_factorial(num))\n"
   ]
  },
  {
   "cell_type": "code",
   "execution_count": 29,
   "id": "cf2f631c-63cd-4a77-960a-3a92c14d82a4",
   "metadata": {},
   "outputs": [
    {
     "name": "stdout",
     "output_type": "stream",
     "text": [
      "15\n"
     ]
    }
   ],
   "source": [
    "x = lambda a: a + 10\n",
    "print(x(5))"
   ]
  },
  {
   "cell_type": "code",
   "execution_count": 30,
   "id": "3655ff89-42c7-45a0-a13a-ac0346df5bff",
   "metadata": {},
   "outputs": [
    {
     "name": "stdout",
     "output_type": "stream",
     "text": [
      "15\n"
     ]
    }
   ],
   "source": [
    "y = lambda e: e * 3\n",
    "\n",
    "print(y(5))"
   ]
  },
  {
   "cell_type": "code",
   "execution_count": 31,
   "id": "ad85d31a-cb69-4050-afb1-48f0b30877f1",
   "metadata": {},
   "outputs": [
    {
     "name": "stdout",
     "output_type": "stream",
     "text": [
      "30\n"
     ]
    }
   ],
   "source": [
    "x = lambda a, b : a * b\n",
    "print(x(5, 6))"
   ]
  },
  {
   "cell_type": "code",
   "execution_count": 32,
   "id": "b278441c-529d-4621-839a-f6826ac46291",
   "metadata": {},
   "outputs": [
    {
     "name": "stdout",
     "output_type": "stream",
     "text": [
      "22\n"
     ]
    }
   ],
   "source": [
    "def myfunc(n):\n",
    "  return lambda a : a * n\n",
    "\n",
    "mydoubler = myfunc(2)\n",
    "\n",
    "print(mydoubler(11))"
   ]
  },
  {
   "cell_type": "code",
   "execution_count": 33,
   "id": "2c223dc2-63cb-4bed-b797-e66c5eec6c6b",
   "metadata": {},
   "outputs": [
    {
     "name": "stdout",
     "output_type": "stream",
     "text": [
      "amitamit\n"
     ]
    }
   ],
   "source": [
    "print(mydoubler(\"amit\"))"
   ]
  }
 ],
 "metadata": {
  "kernelspec": {
   "display_name": "Python 3 (ipykernel)",
   "language": "python",
   "name": "python3"
  },
  "language_info": {
   "codemirror_mode": {
    "name": "ipython",
    "version": 3
   },
   "file_extension": ".py",
   "mimetype": "text/x-python",
   "name": "python",
   "nbconvert_exporter": "python",
   "pygments_lexer": "ipython3",
   "version": "3.11.7"
  }
 },
 "nbformat": 4,
 "nbformat_minor": 5
}
