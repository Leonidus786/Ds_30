{
 "cells": [
  {
   "cell_type": "markdown",
   "id": "0800360d-e75d-41f7-b753-01fb84be81a7",
   "metadata": {},
   "source": [
    "## Arrays\n",
    "Array is a linear data structure where all elements are arranged sequentially. \n",
    "It is a collection of elements of same data type stored at contiguous memory locations. "
   ]
  },
  {
   "cell_type": "markdown",
   "id": "1d0cfea9-7819-4861-bbad-93e84521102c",
   "metadata": {},
   "source": [
    "## Map Function in Python\r\n",
    "The map () function returns a map object(which is an iterator) of the results after applying the given function to each item of a given iterable (list, tuple, etc.).\r\n",
    "\r\n",
    "Syntax: map(fun, iter)\r\n",
    "\r\n",
    "Parameters:\r\n",
    "\r\n",
    "fun: It is a function to which map passes each element of given iterable.\r\n",
    "iter: iterable object to be mapped."
   ]
  },
  {
   "cell_type": "code",
   "execution_count": 1,
   "id": "9e6dc9e2-0898-4189-86f0-d5e25080547e",
   "metadata": {},
   "outputs": [
    {
     "name": "stdout",
     "output_type": "stream",
     "text": [
      "[10, 12, 14, 16]\n"
     ]
    }
   ],
   "source": [
    "# Function to return double of n\n",
    "def double(n):\n",
    "    return n * 2\n",
    "\n",
    "# Using map to double all numbers\n",
    "numbers = [5, 6, 7, 8]\n",
    "result = map(double, numbers)\n",
    "print(list(result))"
   ]
  },
  {
   "cell_type": "markdown",
   "id": "a24f1010-b446-47de-8f87-2c7799b5ca15",
   "metadata": {},
   "source": [
    "## Reduce Function in Python\r\n",
    "The reduce function is used to apply a particular function passed in its argument to all of the list elements mentioned in the sequence passed along.This function is defined in “functools” module.\r\n",
    "\r\n",
    "Syntax: reduce(func, iterable[, initial])\r\n",
    "\r\n",
    "Parametrs:\r\n",
    "\r\n",
    "fun: It is a function to execuate on each element of the iterablt\n",
    "\n",
    "e objec\r\n",
    "iter: It is iterable to be reduced"
   ]
  },
  {
   "cell_type": "code",
   "execution_count": 2,
   "id": "dc421b7b-077c-4c0f-a875-d6f27fdb5e2c",
   "metadata": {},
   "outputs": [
    {
     "name": "stdout",
     "output_type": "stream",
     "text": [
      "Product of list elements: 24\n"
     ]
    }
   ],
   "source": [
    "import functools\n",
    "\n",
    "# Define a list of numbers\n",
    "numbers = [1, 2, 3, 4]\n",
    "\n",
    "# Use reduce to compute the product of list elements\n",
    "product = functools.reduce(lambda x, y: x * y, numbers)\n",
    "print(\"Product of list elements:\", product)\n"
   ]
  },
  {
   "cell_type": "code",
   "execution_count": 4,
   "id": "684b6162-6d58-428a-a376-a6729374e385",
   "metadata": {},
   "outputs": [
    {
     "name": "stdout",
     "output_type": "stream",
     "text": [
      "Even numbers: [2, 4, 6, 8, 10]\n"
     ]
    }
   ],
   "source": [
    "# Define a function to check if a number is even\n",
    "def is_even(n):\n",
    "    return n % 2 == 0\n",
    "\n",
    "# Define a list of numbers\n",
    "numbers = [1, 2, 3, 4, 5, 6, 7, 8, 9, 10]\n",
    "\n",
    "# Use filter to filter out even numbers\n",
    "even_numbers = filter(is_even, numbers)\n",
    "print(\"Even numbers:\", list(even_numbers))"
   ]
  }
 ],
 "metadata": {
  "kernelspec": {
   "display_name": "Python 3 (ipykernel)",
   "language": "python",
   "name": "python3"
  },
  "language_info": {
   "codemirror_mode": {
    "name": "ipython",
    "version": 3
   },
   "file_extension": ".py",
   "mimetype": "text/x-python",
   "name": "python",
   "nbconvert_exporter": "python",
   "pygments_lexer": "ipython3",
   "version": "3.11.7"
  }
 },
 "nbformat": 4,
 "nbformat_minor": 5
}
