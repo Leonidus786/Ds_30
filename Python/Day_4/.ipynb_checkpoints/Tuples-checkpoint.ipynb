{
 "cells": [
  {
   "cell_type": "code",
   "execution_count": 1,
   "id": "a5a0dbbe-a744-44b1-85d1-0a3d80832a07",
   "metadata": {},
   "outputs": [],
   "source": [
    "Tuple_1 = (True, False, 0, 1, 2.5, 3+5j, \"Mansi\", [1,2,3], (4,5,6), {'key':\"Value\"}, \"Mansi\", 0, 3+5j)"
   ]
  },
  {
   "cell_type": "code",
   "execution_count": 2,
   "id": "c1168bf9-b9a9-4ee0-adc3-d6ed08497788",
   "metadata": {},
   "outputs": [
    {
     "name": "stdout",
     "output_type": "stream",
     "text": [
      "<class 'tuple'>\n"
     ]
    }
   ],
   "source": [
    "print(type(Tuple_1))"
   ]
  },
  {
   "cell_type": "code",
   "execution_count": 3,
   "id": "4d2cc2dd-b7d9-4c1a-9ca7-ba616849c820",
   "metadata": {},
   "outputs": [
    {
     "data": {
      "text/plain": [
       "13"
      ]
     },
     "execution_count": 3,
     "metadata": {},
     "output_type": "execute_result"
    }
   ],
   "source": [
    "len(Tuple_1)"
   ]
  },
  {
   "cell_type": "code",
   "execution_count": 4,
   "id": "d129026a-1bf3-46ac-a83f-db2a6b686cf9",
   "metadata": {},
   "outputs": [
    {
     "data": {
      "text/plain": [
       "tuple"
      ]
     },
     "execution_count": 4,
     "metadata": {},
     "output_type": "execute_result"
    }
   ],
   "source": [
    "t = (0,)\n",
    "type(t)"
   ]
  },
  {
   "cell_type": "code",
   "execution_count": 5,
   "id": "1e61cbdc-0768-4fdd-9f68-9bcf6be75797",
   "metadata": {},
   "outputs": [
    {
     "data": {
      "text/plain": [
       "1"
      ]
     },
     "execution_count": 5,
     "metadata": {},
     "output_type": "execute_result"
    }
   ],
   "source": [
    "Tuple_1[-10]"
   ]
  },
  {
   "cell_type": "code",
   "execution_count": 6,
   "id": "9519fc26-5370-4ca5-b85b-02ee1df9a235",
   "metadata": {},
   "outputs": [
    {
     "data": {
      "text/plain": [
       "'Mansi'"
      ]
     },
     "execution_count": 6,
     "metadata": {},
     "output_type": "execute_result"
    }
   ],
   "source": [
    "Tuple_1[10]"
   ]
  }
 ],
 "metadata": {
  "kernelspec": {
   "display_name": "Python 3 (ipykernel)",
   "language": "python",
   "name": "python3"
  },
  "language_info": {
   "codemirror_mode": {
    "name": "ipython",
    "version": 3
   },
   "file_extension": ".py",
   "mimetype": "text/x-python",
   "name": "python",
   "nbconvert_exporter": "python",
   "pygments_lexer": "ipython3",
   "version": "3.11.7"
  }
 },
 "nbformat": 4,
 "nbformat_minor": 5
}
