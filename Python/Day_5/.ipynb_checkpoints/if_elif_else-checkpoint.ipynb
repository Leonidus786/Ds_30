{
 "cells": [
  {
   "cell_type": "code",
   "execution_count": 10,
   "id": "b09a56af-a7f7-45c4-845b-a2a965de0c23",
   "metadata": {},
   "outputs": [],
   "source": [
    "Mark_one = 50\n",
    "marks_two =25"
   ]
  },
  {
   "cell_type": "code",
   "execution_count": 5,
   "id": "786ec730-4d8d-49c2-a140-9442439a11dd",
   "metadata": {},
   "outputs": [],
   "source": [
    "if Mark_one >= 30:\n",
    "    print(\"Bhai tu pass ho gya\")"
   ]
  },
  {
   "cell_type": "code",
   "execution_count": 8,
   "id": "70b77164-3323-487c-9d08-15b17d6e7ee7",
   "metadata": {},
   "outputs": [
    {
     "name": "stdout",
     "output_type": "stream",
     "text": [
      "Ye v theek hai\n"
     ]
    }
   ],
   "source": [
    "if marks_two >= Mark_one:\n",
    "    print(\"Ye v theek hai\")"
   ]
  },
  {
   "cell_type": "code",
   "execution_count": 11,
   "id": "ce3fbd17-1fd4-4f35-b31f-ab3bec21680f",
   "metadata": {},
   "outputs": [
    {
     "name": "stdout",
     "output_type": "stream",
     "text": [
      "Tumse na ho payega beta\n"
     ]
    }
   ],
   "source": [
    "if marks_two >= Mark_one:\n",
    "    print(\"Ye v theek hai\")\n",
    "else:\n",
    "    print(\"Tumse na ho payega beta\")"
   ]
  },
  {
   "cell_type": "code",
   "execution_count": 12,
   "id": "0ff8abba-8980-4efb-a078-b2d1272c2c32",
   "metadata": {},
   "outputs": [
    {
     "name": "stdout",
     "output_type": "stream",
     "text": [
      "a is greater than b\n"
     ]
    }
   ],
   "source": [
    "a = 200\n",
    "b = 33\n",
    "if b > a:\n",
    "  print(\"b is greater than a\")\n",
    "elif a == b:\n",
    "  print(\"a and b are equal\")\n",
    "else:\n",
    "  print(\"a is greater than b\")"
   ]
  },
  {
   "cell_type": "code",
   "execution_count": 13,
   "id": "18562a26-1a05-48fb-927d-61f31d4ed67d",
   "metadata": {},
   "outputs": [
    {
     "ename": "SyntaxError",
     "evalue": "invalid syntax (4230296492.py, line 4)",
     "output_type": "error",
     "traceback": [
      "\u001b[1;36m  Cell \u001b[1;32mIn[13], line 4\u001b[1;36m\u001b[0m\n\u001b[1;33m    elif a == b:\u001b[0m\n\u001b[1;37m    ^\u001b[0m\n\u001b[1;31mSyntaxError\u001b[0m\u001b[1;31m:\u001b[0m invalid syntax\n"
     ]
    }
   ],
   "source": [
    "a = 200\n",
    "b = 33\n",
    "\n",
    "elif a == b:\n",
    "  print(\"a and b are equal\")\n",
    "else:\n",
    "  print(\"a is greater than b\")"
   ]
  },
  {
   "cell_type": "code",
   "execution_count": 14,
   "id": "972b4171-e827-48ae-8b17-7c93370c3eae",
   "metadata": {},
   "outputs": [
    {
     "name": "stdout",
     "output_type": "stream",
     "text": [
      "B\n"
     ]
    }
   ],
   "source": [
    "a = 2\n",
    "b = 330\n",
    "print(\"A\") if a > b else print(\"B\")"
   ]
  },
  {
   "cell_type": "code",
   "execution_count": 16,
   "id": "cf6c9229-761e-4d2a-900d-e55d424490b5",
   "metadata": {},
   "outputs": [],
   "source": [
    "a = 200\n",
    "b = 33\n",
    "if b > a:\n",
    "    pass"
   ]
  }
 ],
 "metadata": {
  "kernelspec": {
   "display_name": "Python 3 (ipykernel)",
   "language": "python",
   "name": "python3"
  },
  "language_info": {
   "codemirror_mode": {
    "name": "ipython",
    "version": 3
   },
   "file_extension": ".py",
   "mimetype": "text/x-python",
   "name": "python",
   "nbconvert_exporter": "python",
   "pygments_lexer": "ipython3",
   "version": "3.11.7"
  }
 },
 "nbformat": 4,
 "nbformat_minor": 5
}
