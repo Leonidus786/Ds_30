{
 "cells": [
  {
   "cell_type": "code",
   "execution_count": 1,
   "id": "01fc93ea-3635-4992-8d04-729abf2d776b",
   "metadata": {},
   "outputs": [
    {
     "data": {
      "text/plain": [
       "True"
      ]
     },
     "execution_count": 1,
     "metadata": {},
     "output_type": "execute_result"
    }
   ],
   "source": [
    "a = 6\n",
    "b = 7\n",
    "\n",
    "a > 3 and b < 10"
   ]
  },
  {
   "cell_type": "code",
   "execution_count": 2,
   "id": "b995128a-11e6-4ad7-9590-e81de5ff3f4e",
   "metadata": {},
   "outputs": [
    {
     "data": {
      "text/plain": [
       "False"
      ]
     },
     "execution_count": 2,
     "metadata": {},
     "output_type": "execute_result"
    }
   ],
   "source": [
    "a < 3 and b < 10"
   ]
  },
  {
   "cell_type": "code",
   "execution_count": 3,
   "id": "f9d9afca-9a59-4194-9c4b-b85b4cfd66b5",
   "metadata": {},
   "outputs": [
    {
     "data": {
      "text/plain": [
       "True"
      ]
     },
     "execution_count": 3,
     "metadata": {},
     "output_type": "execute_result"
    }
   ],
   "source": [
    "a < 3 or b < 10"
   ]
  },
  {
   "cell_type": "code",
   "execution_count": 4,
   "id": "5f8a7e55-289b-426f-ba8b-58c03171a5f0",
   "metadata": {},
   "outputs": [
    {
     "data": {
      "text/plain": [
       "False"
      ]
     },
     "execution_count": 4,
     "metadata": {},
     "output_type": "execute_result"
    }
   ],
   "source": [
    "not a"
   ]
  },
  {
   "cell_type": "code",
   "execution_count": 5,
   "id": "cb71e3e3-dc91-4883-9fe0-1b97d5b0e340",
   "metadata": {},
   "outputs": [
    {
     "data": {
      "text/plain": [
       "1"
      ]
     },
     "execution_count": 5,
     "metadata": {},
     "output_type": "execute_result"
    }
   ],
   "source": [
    "3 & 5"
   ]
  },
  {
   "cell_type": "code",
   "execution_count": 6,
   "id": "02e642d0-c39f-449e-9f89-ca2f2b86c37b",
   "metadata": {},
   "outputs": [
    {
     "data": {
      "text/plain": [
       "7"
      ]
     },
     "execution_count": 6,
     "metadata": {},
     "output_type": "execute_result"
    }
   ],
   "source": [
    "3 | 5"
   ]
  },
  {
   "cell_type": "code",
   "execution_count": 7,
   "id": "500b710d-448b-47ad-9b83-25294a5c88a4",
   "metadata": {},
   "outputs": [
    {
     "data": {
      "text/plain": [
       "27"
      ]
     },
     "execution_count": 7,
     "metadata": {},
     "output_type": "execute_result"
    }
   ],
   "source": [
    "25 | 27"
   ]
  },
  {
   "cell_type": "code",
   "execution_count": null,
   "id": "e73f5d66-8630-4977-afd5-69a56bb7e822",
   "metadata": {},
   "outputs": [],
   "source": []
  }
 ],
 "metadata": {
  "kernelspec": {
   "display_name": "Python 3 (ipykernel)",
   "language": "python",
   "name": "python3"
  },
  "language_info": {
   "codemirror_mode": {
    "name": "ipython",
    "version": 3
   },
   "file_extension": ".py",
   "mimetype": "text/x-python",
   "name": "python",
   "nbconvert_exporter": "python",
   "pygments_lexer": "ipython3",
   "version": "3.11.7"
  }
 },
 "nbformat": 4,
 "nbformat_minor": 5
}
