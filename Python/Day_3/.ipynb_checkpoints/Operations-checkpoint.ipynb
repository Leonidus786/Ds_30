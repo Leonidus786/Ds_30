{
 "cells": [
  {
   "cell_type": "markdown",
   "id": "96f2d0d3-7945-4596-b336-b0efd10bf436",
   "metadata": {},
   "source": [
    "# Identity Operators\n",
    "\n",
    "### Identity operators are used to compare the objects, not if they are equal, but if they are actually the same object, with the same memory location"
   ]
  },
  {
   "cell_type": "code",
   "execution_count": 3,
   "id": "cb58f8ec-174b-4362-9ffe-6565857452dc",
   "metadata": {},
   "outputs": [
    {
     "name": "stdout",
     "output_type": "stream",
     "text": [
      "2685441431552\n",
      "2685441431360\n",
      "2685441431552\n",
      "True\n",
      "False\n",
      "True\n"
     ]
    }
   ],
   "source": [
    "x = [\"apple\", \"banana\"]\n",
    "y = [\"apple\", \"banana\"]\n",
    "z = x\n",
    "\n",
    "print(id(x))\n",
    "print(id(y))\n",
    "print(id(z))\n",
    "\n",
    "print(x is z)\n",
    "\n",
    "# returns True because z is the same object as x\n",
    "\n",
    "print(x is y)\n",
    "\n",
    "# returns False because x is not the same object as y, even if they have the same content\n",
    "\n",
    "print(x == y)\n",
    "\n",
    "# to demonstrate the difference betweeen \"is\" and \"==\": this comparison returns True because x is equal to y"
   ]
  },
  {
   "cell_type": "code",
   "execution_count": 4,
   "id": "78b037d7-1ced-4da7-b359-378ca4de1e7c",
   "metadata": {},
   "outputs": [
    {
     "name": "stdout",
     "output_type": "stream",
     "text": [
      "False\n",
      "True\n",
      "False\n"
     ]
    }
   ],
   "source": [
    "x = [\"apple\", \"banana\"]\n",
    "y = [\"apple\", \"banana\"]\n",
    "z = x\n",
    "\n",
    "print(x is not z)\n",
    "\n",
    "# returns False because z is the same object as x\n",
    "\n",
    "print(x is not y)\n",
    "\n",
    "# returns True because x is not the same object as y, even if they have the same content\n",
    "\n",
    "print(x != y)\n",
    "\n",
    "# to demonstrate the difference betweeen \"is not\" and \"!=\": this comparison returns False because x is equal to y\n"
   ]
  },
  {
   "cell_type": "code",
   "execution_count": 5,
   "id": "174e7026-f299-427b-a2a8-85a5c8d6e326",
   "metadata": {},
   "outputs": [
    {
     "data": {
      "text/plain": [
       "True"
      ]
     },
     "execution_count": 5,
     "metadata": {},
     "output_type": "execute_result"
    }
   ],
   "source": [
    "x = \"amit\"\n",
    "\n",
    "\"m\" in x"
   ]
  },
  {
   "cell_type": "code",
   "execution_count": 6,
   "id": "d716ec16-d0e1-40f6-9b5e-ec9ed3113bfb",
   "metadata": {},
   "outputs": [
    {
     "data": {
      "text/plain": [
       "False"
      ]
     },
     "execution_count": 6,
     "metadata": {},
     "output_type": "execute_result"
    }
   ],
   "source": [
    "\"a\" not in x"
   ]
  },
  {
   "cell_type": "code",
   "execution_count": 7,
   "id": "fe02c034-ca12-4b3b-8089-b13b9f85c90e",
   "metadata": {},
   "outputs": [
    {
     "name": "stdout",
     "output_type": "stream",
     "text": [
      "True\n"
     ]
    }
   ],
   "source": [
    "x = [\"apple\", \"banana\"]\n",
    "\n",
    "print(\"banana\" in x)"
   ]
  },
  {
   "cell_type": "code",
   "execution_count": 8,
   "id": "996cd3cd-180f-4bfb-b017-dd3568dddc03",
   "metadata": {},
   "outputs": [
    {
     "name": "stdout",
     "output_type": "stream",
     "text": [
      "True\n"
     ]
    }
   ],
   "source": [
    "print(\"pineapple\" not in x)"
   ]
  }
 ],
 "metadata": {
  "kernelspec": {
   "display_name": "Python 3 (ipykernel)",
   "language": "python",
   "name": "python3"
  },
  "language_info": {
   "codemirror_mode": {
    "name": "ipython",
    "version": 3
   },
   "file_extension": ".py",
   "mimetype": "text/x-python",
   "name": "python",
   "nbconvert_exporter": "python",
   "pygments_lexer": "ipython3",
   "version": "3.11.7"
  }
 },
 "nbformat": 4,
 "nbformat_minor": 5
}
