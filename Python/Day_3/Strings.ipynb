{
 "cells": [
  {
   "cell_type": "code",
   "execution_count": 1,
   "id": "ab4e01ab-41d7-4efe-a113-94a23598dc0b",
   "metadata": {},
   "outputs": [
    {
     "data": {
      "text/plain": [
       "str"
      ]
     },
     "execution_count": 1,
     "metadata": {},
     "output_type": "execute_result"
    }
   ],
   "source": [
    "Name = \"Abhishek\"\n",
    "type(Name)"
   ]
  },
  {
   "cell_type": "code",
   "execution_count": 3,
   "id": "faff329a-a6a7-4968-9365-3f71a1de7478",
   "metadata": {},
   "outputs": [
    {
     "name": "stdout",
     "output_type": "stream",
     "text": [
      "Hello, Abhishek\n"
     ]
    }
   ],
   "source": [
    "# concatenation\n",
    "print(\"Hello, \" + Name)"
   ]
  },
  {
   "cell_type": "code",
   "execution_count": 7,
   "id": "6aae97f6-7c93-4494-a787-567bdfdd6545",
   "metadata": {},
   "outputs": [
    {
     "name": "stdout",
     "output_type": "stream",
     "text": [
      "Hello, \"Abhishek\"\n"
     ]
    }
   ],
   "source": [
    "# hello, \"Abhishek\".\n",
    "# 1st way\n",
    "print('Hello, \"Abhishek\"')"
   ]
  },
  {
   "cell_type": "code",
   "execution_count": 8,
   "id": "ec6f5e6a-411e-44b8-ba8c-a1864393d3ce",
   "metadata": {},
   "outputs": [
    {
     "name": "stdout",
     "output_type": "stream",
     "text": [
      "Hello, 'Abhishek'\n"
     ]
    }
   ],
   "source": [
    "#2nd Way\n",
    "print(\"Hello, 'Abhishek'\")"
   ]
  },
  {
   "cell_type": "code",
   "execution_count": 9,
   "id": "f9ba44bb-091d-4363-9671-5931c1257f69",
   "metadata": {},
   "outputs": [
    {
     "name": "stdout",
     "output_type": "stream",
     "text": [
      "The Zen of Python, by Tim Peters\n",
      "\n",
      "Beautiful is better than ugly.\n",
      "Explicit is better than implicit.\n",
      "Simple is better than complex.\n",
      "Complex is better than complicated.\n",
      "Flat is better than nested.\n",
      "Sparse is better than dense.\n",
      "Readability counts.\n",
      "Special cases aren't special enough to break the rules.\n",
      "Although practicality beats purity.\n",
      "Errors should never pass silently.\n",
      "Unless explicitly silenced.\n",
      "In the face of ambiguity, refuse the temptation to guess.\n",
      "There should be one-- and preferably only one --obvious way to do it.\n",
      "Although that way may not be obvious at first unless you're Dutch.\n",
      "Now is better than never.\n",
      "Although never is often better than *right* now.\n",
      "If the implementation is hard to explain, it's a bad idea.\n",
      "If the implementation is easy to explain, it may be a good idea.\n",
      "Namespaces are one honking great idea -- let's do more of those!\n"
     ]
    }
   ],
   "source": [
    "import this"
   ]
  },
  {
   "cell_type": "code",
   "execution_count": 10,
   "id": "21098224-4f43-44f6-bcc4-cc7560e87b1e",
   "metadata": {},
   "outputs": [],
   "source": [
    "lines = '''Beautiful is better than ugly.\n",
    "Explicit is better than implicit.\n",
    "Simple is better than complex.\n",
    "Complex is better than complicated.\n",
    "Flat is better than nested.\n",
    "Sparse is better than dense.\n",
    "Readability counts.''' "
   ]
  },
  {
   "cell_type": "code",
   "execution_count": 12,
   "id": "963ff744-2841-4b40-92d1-5f9067c8fe3e",
   "metadata": {},
   "outputs": [
    {
     "name": "stdout",
     "output_type": "stream",
     "text": [
      "Beautiful is better than ugly.\n",
      "Explicit is better than implicit.\n",
      "Simple is better than complex.\n",
      "Complex is better than complicated.\n",
      "Flat is better than nested.\n",
      "Sparse is better than dense.\n",
      "Readability counts.\n"
     ]
    }
   ],
   "source": [
    "print(lines)"
   ]
  },
  {
   "cell_type": "code",
   "execution_count": 13,
   "id": "7bd21f2a-b51f-4c2e-95f8-6f520b8af586",
   "metadata": {},
   "outputs": [
    {
     "data": {
      "text/plain": [
       "'A'"
      ]
     },
     "execution_count": 13,
     "metadata": {},
     "output_type": "execute_result"
    }
   ],
   "source": [
    "Name[0]"
   ]
  },
  {
   "cell_type": "code",
   "execution_count": 15,
   "id": "09003159-5fda-4dc4-aa61-d40938d8f998",
   "metadata": {},
   "outputs": [
    {
     "data": {
      "text/plain": [
       "8"
      ]
     },
     "execution_count": 15,
     "metadata": {},
     "output_type": "execute_result"
    }
   ],
   "source": [
    "len(Name)"
   ]
  },
  {
   "cell_type": "code",
   "execution_count": 17,
   "id": "41c6eac6-514e-4f72-a322-5de8d8f6cd98",
   "metadata": {},
   "outputs": [
    {
     "data": {
      "text/plain": [
       "'Abhi'"
      ]
     },
     "execution_count": 17,
     "metadata": {},
     "output_type": "execute_result"
    }
   ],
   "source": [
    "# Slicing --> [ Start : End ] --> including start and excluding end.\n",
    "# +ve indexing\n",
    "Name[0:4]"
   ]
  },
  {
   "cell_type": "code",
   "execution_count": 18,
   "id": "caeb8245-210b-47c2-81ae-31ea44ad939f",
   "metadata": {},
   "outputs": [
    {
     "data": {
      "text/plain": [
       "'Abhi'"
      ]
     },
     "execution_count": 18,
     "metadata": {},
     "output_type": "execute_result"
    }
   ],
   "source": [
    "# -ve indexing\n",
    "Name[-8:-4]"
   ]
  },
  {
   "cell_type": "code",
   "execution_count": 20,
   "id": "eec272a1-3e1b-41ef-b137-1389c2a688d1",
   "metadata": {},
   "outputs": [
    {
     "name": "stdout",
     "output_type": "stream",
     "text": [
      "Abhi\n",
      "Abhi\n"
     ]
    }
   ],
   "source": [
    "print(Name[:-4])\n",
    "print(Name[:4])"
   ]
  },
  {
   "cell_type": "code",
   "execution_count": 28,
   "id": "df53e20b-5058-401e-b814-e1738d54b2d4",
   "metadata": {},
   "outputs": [
    {
     "name": "stdout",
     "output_type": "stream",
     "text": [
      "shek\n",
      "shek\n"
     ]
    }
   ],
   "source": [
    "print(Name[-4:])\n",
    "print(Name[4:])"
   ]
  },
  {
   "cell_type": "code",
   "execution_count": 30,
   "id": "ddcba0b6-0710-4698-a9bf-18bb5fcccb44",
   "metadata": {},
   "outputs": [
    {
     "data": {
      "text/plain": [
       "'Abhishek'"
      ]
     },
     "execution_count": 30,
     "metadata": {},
     "output_type": "execute_result"
    }
   ],
   "source": [
    "Name"
   ]
  },
  {
   "cell_type": "code",
   "execution_count": 34,
   "id": "a7258bc0-1e0f-4a90-b74b-05e74c3ff270",
   "metadata": {},
   "outputs": [
    {
     "data": {
      "text/plain": [
       "'his'"
      ]
     },
     "execution_count": 34,
     "metadata": {},
     "output_type": "execute_result"
    }
   ],
   "source": [
    "Name[-6:-3]"
   ]
  },
  {
   "cell_type": "code",
   "execution_count": 31,
   "id": "53b05d5a-3740-40b5-bc72-23766ad0936b",
   "metadata": {},
   "outputs": [
    {
     "data": {
      "text/plain": [
       "'his'"
      ]
     },
     "execution_count": 31,
     "metadata": {},
     "output_type": "execute_result"
    }
   ],
   "source": [
    "Name[2:5]"
   ]
  },
  {
   "cell_type": "code",
   "execution_count": 41,
   "id": "e4e37bab-ac4f-451b-a533-a85e615105ff",
   "metadata": {},
   "outputs": [
    {
     "name": "stdout",
     "output_type": "stream",
     "text": [
      "A\n",
      "b\n",
      "h\n",
      "i\n",
      "s\n",
      "h\n",
      "e\n",
      "k\n"
     ]
    }
   ],
   "source": [
    "# looping through string means printing everything\n",
    "\n",
    "\n",
    "for S in Name:\n",
    "    print(S)"
   ]
  },
  {
   "cell_type": "code",
   "execution_count": 42,
   "id": "7b8eae63-acf5-413b-ab83-d8fc755d7a6c",
   "metadata": {},
   "outputs": [
    {
     "name": "stdout",
     "output_type": "stream",
     "text": [
      "True\n"
     ]
    }
   ],
   "source": [
    "txt = \"The best things in life are not free!\"\n",
    "print(\"free\" in txt)"
   ]
  },
  {
   "cell_type": "code",
   "execution_count": 43,
   "id": "092103a8-2ce7-4bb2-bfe0-56666e82caae",
   "metadata": {},
   "outputs": [],
   "source": [
    "name = 'amit'"
   ]
  },
  {
   "cell_type": "code",
   "execution_count": 47,
   "id": "0409975a-b1b1-42f3-95f9-3114cd28d908",
   "metadata": {},
   "outputs": [
    {
     "name": "stdout",
     "output_type": "stream",
     "text": [
      "AMIT\n",
      "AMIT\n"
     ]
    }
   ],
   "source": [
    "name_1 = name.upper()\n",
    "print(name_1)\n",
    "\n",
    "print(name.upper())"
   ]
  },
  {
   "cell_type": "code",
   "execution_count": 48,
   "id": "d9d800ef-588b-4926-a780-e5be97a1df50",
   "metadata": {},
   "outputs": [
    {
     "name": "stdout",
     "output_type": "stream",
     "text": [
      "amit\n"
     ]
    }
   ],
   "source": [
    "print(name.lower())"
   ]
  },
  {
   "cell_type": "code",
   "execution_count": 52,
   "id": "35fd92b9-5385-4090-8fce-edaf26111f9f",
   "metadata": {},
   "outputs": [
    {
     "data": {
      "text/plain": [
       "'japreet'"
      ]
     },
     "execution_count": 52,
     "metadata": {},
     "output_type": "execute_result"
    }
   ],
   "source": [
    "name_2 = \"       japreet                   \"\n",
    "\n",
    "n_1 = name_2.strip()\n",
    "n_1"
   ]
  },
  {
   "cell_type": "code",
   "execution_count": 25,
   "id": "66eef580-9778-495a-b258-c12cd256d79d",
   "metadata": {},
   "outputs": [],
   "source": [
    "Name_M = \"Abhishek\""
   ]
  },
  {
   "cell_type": "code",
   "execution_count": 3,
   "id": "77fec54b-47b0-449b-8b4d-66bb40d7505e",
   "metadata": {},
   "outputs": [
    {
     "data": {
      "text/plain": [
       "'Abhi'"
      ]
     },
     "execution_count": 3,
     "metadata": {},
     "output_type": "execute_result"
    }
   ],
   "source": [
    "# Normal Slicing\n",
    "Name_M[:4]"
   ]
  },
  {
   "cell_type": "code",
   "execution_count": 6,
   "id": "5f87f5ff-fbc7-40b4-a64a-0edbcebac4e8",
   "metadata": {},
   "outputs": [
    {
     "data": {
      "text/plain": [
       "'Abhishek'"
      ]
     },
     "execution_count": 6,
     "metadata": {},
     "output_type": "execute_result"
    }
   ],
   "source": [
    "Name_M"
   ]
  },
  {
   "cell_type": "code",
   "execution_count": 5,
   "id": "00d0a732-6e15-4b85-9be3-96649783103c",
   "metadata": {},
   "outputs": [
    {
     "data": {
      "text/plain": [
       "'Ahse'"
      ]
     },
     "execution_count": 5,
     "metadata": {},
     "output_type": "execute_result"
    }
   ],
   "source": [
    "# Slicing --> [Start : End : Step]\n",
    "\n",
    "Name_M[::2]"
   ]
  },
  {
   "cell_type": "code",
   "execution_count": 9,
   "id": "afdb280e-d641-4af8-9899-40d3a3cd97cb",
   "metadata": {},
   "outputs": [
    {
     "data": {
      "text/plain": [
       "'I am a Mango man.'"
      ]
     },
     "execution_count": 9,
     "metadata": {},
     "output_type": "execute_result"
    }
   ],
   "source": [
    "txt = \"I am a Mango man.\"\n",
    "txt"
   ]
  },
  {
   "cell_type": "code",
   "execution_count": 10,
   "id": "3ec1948b-62e9-447e-9b37-959db568e310",
   "metadata": {},
   "outputs": [
    {
     "data": {
      "text/plain": [
       "17"
      ]
     },
     "execution_count": 10,
     "metadata": {},
     "output_type": "execute_result"
    }
   ],
   "source": [
    "len(txt)"
   ]
  },
  {
   "cell_type": "code",
   "execution_count": 11,
   "id": "2f055df2-0d18-4c69-8a66-06b344c2d569",
   "metadata": {},
   "outputs": [
    {
     "data": {
      "text/plain": [
       "'I am a Man'"
      ]
     },
     "execution_count": 11,
     "metadata": {},
     "output_type": "execute_result"
    }
   ],
   "source": [
    "txt[:10]"
   ]
  },
  {
   "cell_type": "code",
   "execution_count": 15,
   "id": "dc371cd6-d79f-43f6-bcea-3f073181f8f4",
   "metadata": {},
   "outputs": [
    {
     "data": {
      "text/plain": [
       "'I am a Man'"
      ]
     },
     "execution_count": 15,
     "metadata": {},
     "output_type": "execute_result"
    }
   ],
   "source": [
    "txt[:-7]"
   ]
  },
  {
   "cell_type": "code",
   "execution_count": 26,
   "id": "052e22dc-9487-409c-b6e9-c70583f906f2",
   "metadata": {},
   "outputs": [
    {
     "data": {
      "text/plain": [
       "'Abhishek'"
      ]
     },
     "execution_count": 26,
     "metadata": {},
     "output_type": "execute_result"
    }
   ],
   "source": [
    "Name_M"
   ]
  },
  {
   "cell_type": "code",
   "execution_count": 27,
   "id": "b5a52656-541a-411b-b7b9-eca0fe3779db",
   "metadata": {},
   "outputs": [
    {
     "data": {
      "text/plain": [
       "'AbHisHek'"
      ]
     },
     "execution_count": 27,
     "metadata": {},
     "output_type": "execute_result"
    }
   ],
   "source": [
    "Name_M.replace(\"h\",\"H\")"
   ]
  },
  {
   "cell_type": "code",
   "execution_count": 28,
   "id": "2a90aed9-72a8-40cd-a107-70a23ac87447",
   "metadata": {},
   "outputs": [
    {
     "data": {
      "text/plain": [
       "'Abhishek'"
      ]
     },
     "execution_count": 28,
     "metadata": {},
     "output_type": "execute_result"
    }
   ],
   "source": [
    "Name_M"
   ]
  },
  {
   "cell_type": "code",
   "execution_count": 31,
   "id": "db6f4d46-ac85-46d7-8042-ae4a217f33dd",
   "metadata": {},
   "outputs": [
    {
     "data": {
      "text/plain": [
       "'AbHishek'"
      ]
     },
     "execution_count": 31,
     "metadata": {},
     "output_type": "execute_result"
    }
   ],
   "source": [
    "Name_M.replace(\"h\",\"H\",1)"
   ]
  },
  {
   "cell_type": "code",
   "execution_count": 32,
   "id": "b955e0be-2f28-4108-9eed-fcde67140bbb",
   "metadata": {},
   "outputs": [
    {
     "data": {
      "text/plain": [
       "'I am a Mango man.'"
      ]
     },
     "execution_count": 32,
     "metadata": {},
     "output_type": "execute_result"
    }
   ],
   "source": [
    "txt"
   ]
  },
  {
   "cell_type": "code",
   "execution_count": 33,
   "id": "d7486e01-0f84-40d1-96cf-ab3d29402def",
   "metadata": {},
   "outputs": [
    {
     "data": {
      "text/plain": [
       "['I', 'am', 'a', 'Mango', 'man.']"
      ]
     },
     "execution_count": 33,
     "metadata": {},
     "output_type": "execute_result"
    }
   ],
   "source": [
    "txt.split(\" \")"
   ]
  },
  {
   "cell_type": "code",
   "execution_count": 38,
   "id": "3e687d93-2430-4c48-bef5-e7aeaff20ce5",
   "metadata": {},
   "outputs": [
    {
     "name": "stdout",
     "output_type": "stream",
     "text": [
      "['hello', 'world!']\n"
     ]
    }
   ],
   "source": [
    "msg = \"hello-world!\"\n",
    "print(msg.split(\"-\"))  ## dash -  >> underscore _"
   ]
  },
  {
   "cell_type": "code",
   "execution_count": 43,
   "id": "54a93331-3879-4ff2-9e86-80ab2ababdec",
   "metadata": {},
   "outputs": [
    {
     "name": "stdout",
     "output_type": "stream",
     "text": [
      "Hello World\n"
     ]
    }
   ],
   "source": [
    "a = \"Hello\"\n",
    "b = \"World\"\n",
    "c = a +\" \"+ b\n",
    "print(c)"
   ]
  },
  {
   "cell_type": "code",
   "execution_count": 44,
   "id": "1d88a91d-8a69-4e02-a614-c8d54bfe9d72",
   "metadata": {},
   "outputs": [
    {
     "ename": "TypeError",
     "evalue": "can only concatenate str (not \"int\") to str",
     "output_type": "error",
     "traceback": [
      "\u001b[1;31m---------------------------------------------------------------------------\u001b[0m",
      "\u001b[1;31mTypeError\u001b[0m                                 Traceback (most recent call last)",
      "Cell \u001b[1;32mIn[44], line 2\u001b[0m\n\u001b[0;32m      1\u001b[0m age \u001b[38;5;241m=\u001b[39m \u001b[38;5;241m36\u001b[39m\n\u001b[1;32m----> 2\u001b[0m text \u001b[38;5;241m=\u001b[39m \u001b[38;5;124m\"\u001b[39m\u001b[38;5;124mMy name is John, I am \u001b[39m\u001b[38;5;124m\"\u001b[39m \u001b[38;5;241m+\u001b[39m age\n\u001b[0;32m      3\u001b[0m \u001b[38;5;28mprint\u001b[39m(text)\n",
      "\u001b[1;31mTypeError\u001b[0m: can only concatenate str (not \"int\") to str"
     ]
    }
   ],
   "source": [
    "age = 36\n",
    "text = \"My name is John, I am \" + age\n",
    "print(text)"
   ]
  },
  {
   "cell_type": "code",
   "execution_count": 45,
   "id": "627c2748-a990-4e44-a712-08f4244168d0",
   "metadata": {},
   "outputs": [
    {
     "name": "stdout",
     "output_type": "stream",
     "text": [
      "My name is John, I am 36\n"
     ]
    }
   ],
   "source": [
    "age = 36\n",
    "text = \"My name is John, I am \" + str(age)\n",
    "print(text)"
   ]
  },
  {
   "cell_type": "code",
   "execution_count": 46,
   "id": "9134e4dd-bb83-432c-baba-d34baa3ccb82",
   "metadata": {},
   "outputs": [],
   "source": [
    "score = 0\n",
    "height = 1.8\n",
    "isWinning = True"
   ]
  },
  {
   "cell_type": "code",
   "execution_count": 47,
   "id": "c5924451-98f9-47d9-85fd-240b5ec44513",
   "metadata": {},
   "outputs": [
    {
     "name": "stdout",
     "output_type": "stream",
     "text": [
      "Your score is 0, your height is 1.8, you are winning is True\n"
     ]
    }
   ],
   "source": [
    "print(\"Your score is \" + str(score) +\", your height is \" + str(height)+ \", you are winning is \" + str(isWinning))"
   ]
  },
  {
   "cell_type": "code",
   "execution_count": 48,
   "id": "7ea632ec-9f62-4248-b17b-5c849a6026e9",
   "metadata": {},
   "outputs": [
    {
     "name": "stdout",
     "output_type": "stream",
     "text": [
      "Your score is 0, your height is 1.8, you are winning is True\n"
     ]
    }
   ],
   "source": [
    "print(f\"Your score is {score}, your height is {height}, you are winning is {isWinning}\")"
   ]
  },
  {
   "cell_type": "code",
   "execution_count": 49,
   "id": "f5bd8096-acd9-4586-84b6-9b57ea3ceef5",
   "metadata": {},
   "outputs": [
    {
     "name": "stdout",
     "output_type": "stream",
     "text": [
      "Your score is 1.8, your height is 0, you are winning is True\n"
     ]
    }
   ],
   "source": [
    "print(f\"Your score is {height}, your height is {score}, you are winning is {isWinning}\")"
   ]
  },
  {
   "cell_type": "code",
   "execution_count": 50,
   "id": "d53151d9-b181-41c0-abb8-367a6faceecb",
   "metadata": {},
   "outputs": [
    {
     "name": "stdout",
     "output_type": "stream",
     "text": [
      "The price is 59 dollars\n"
     ]
    }
   ],
   "source": [
    "price = 59\n",
    "txt = f\"The price is {price} dollars\"\n",
    "print(txt)"
   ]
  },
  {
   "cell_type": "code",
   "execution_count": 52,
   "id": "3a92b94f-2ea7-4315-b476-1530575f5b6a",
   "metadata": {},
   "outputs": [
    {
     "name": "stdout",
     "output_type": "stream",
     "text": [
      "The price is 59.00 dollars\n"
     ]
    }
   ],
   "source": [
    "price = 59\n",
    "txt = f\"The price is {price:.2f} dollars\"\n",
    "print(txt)"
   ]
  },
  {
   "cell_type": "code",
   "execution_count": 54,
   "id": "e18c6294-f932-4885-9f74-34fe21242a63",
   "metadata": {},
   "outputs": [
    {
     "ename": "SyntaxError",
     "evalue": "invalid syntax (3519483494.py, line 1)",
     "output_type": "error",
     "traceback": [
      "\u001b[1;36m  Cell \u001b[1;32mIn[54], line 1\u001b[1;36m\u001b[0m\n\u001b[1;33m    txt_1 = \"We are the so-called \"VIKINGS\" from the north.\"\u001b[0m\n\u001b[1;37m                                   ^\u001b[0m\n\u001b[1;31mSyntaxError\u001b[0m\u001b[1;31m:\u001b[0m invalid syntax\n"
     ]
    }
   ],
   "source": [
    "txt_1 = \"We are the so-called \"VIKINGS\" from the north.\"\n",
    "txt_1"
   ]
  },
  {
   "cell_type": "code",
   "execution_count": 55,
   "id": "1e4edaf5-f27c-442a-8e47-ccf4651aaf95",
   "metadata": {},
   "outputs": [],
   "source": [
    "txt = 'We are the so-called \"Vikings\" from the north.'"
   ]
  },
  {
   "cell_type": "code",
   "execution_count": 56,
   "id": "d72a68ee-7d45-4492-8a8a-dc91a2f206aa",
   "metadata": {},
   "outputs": [
    {
     "data": {
      "text/plain": [
       "'We are the so-called \"Vikings\" from the north.'"
      ]
     },
     "execution_count": 56,
     "metadata": {},
     "output_type": "execute_result"
    }
   ],
   "source": [
    "txt"
   ]
  },
  {
   "cell_type": "code",
   "execution_count": 57,
   "id": "15b17ad1-f094-4270-81c6-e28b576e81cd",
   "metadata": {},
   "outputs": [
    {
     "data": {
      "text/plain": [
       "'We are the so-called \"Vikings\" from the north.'"
      ]
     },
     "execution_count": 57,
     "metadata": {},
     "output_type": "execute_result"
    }
   ],
   "source": [
    "txt = \"We are the so-called \\\"Vikings\\\" from the north.\"\n",
    "txt"
   ]
  }
 ],
 "metadata": {
  "kernelspec": {
   "display_name": "Python 3 (ipykernel)",
   "language": "python",
   "name": "python3"
  },
  "language_info": {
   "codemirror_mode": {
    "name": "ipython",
    "version": 3
   },
   "file_extension": ".py",
   "mimetype": "text/x-python",
   "name": "python",
   "nbconvert_exporter": "python",
   "pygments_lexer": "ipython3",
   "version": "3.11.7"
  }
 },
 "nbformat": 4,
 "nbformat_minor": 5
}
