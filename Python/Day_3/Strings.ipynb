{
 "cells": [
  {
   "cell_type": "code",
   "execution_count": 1,
   "id": "ab4e01ab-41d7-4efe-a113-94a23598dc0b",
   "metadata": {},
   "outputs": [
    {
     "data": {
      "text/plain": [
       "str"
      ]
     },
     "execution_count": 1,
     "metadata": {},
     "output_type": "execute_result"
    }
   ],
   "source": [
    "Name = \"Abhishek\"\n",
    "type(Name)"
   ]
  },
  {
   "cell_type": "code",
   "execution_count": 3,
   "id": "faff329a-a6a7-4968-9365-3f71a1de7478",
   "metadata": {},
   "outputs": [
    {
     "name": "stdout",
     "output_type": "stream",
     "text": [
      "Hello, Abhishek\n"
     ]
    }
   ],
   "source": [
    "# concatenation\n",
    "print(\"Hello, \" + Name)"
   ]
  },
  {
   "cell_type": "code",
   "execution_count": 7,
   "id": "6aae97f6-7c93-4494-a787-567bdfdd6545",
   "metadata": {},
   "outputs": [
    {
     "name": "stdout",
     "output_type": "stream",
     "text": [
      "Hello, \"Abhishek\"\n"
     ]
    }
   ],
   "source": [
    "# hello, \"Abhishek\".\n",
    "# 1st way\n",
    "print('Hello, \"Abhishek\"')"
   ]
  },
  {
   "cell_type": "code",
   "execution_count": 8,
   "id": "ec6f5e6a-411e-44b8-ba8c-a1864393d3ce",
   "metadata": {},
   "outputs": [
    {
     "name": "stdout",
     "output_type": "stream",
     "text": [
      "Hello, 'Abhishek'\n"
     ]
    }
   ],
   "source": [
    "#2nd Way\n",
    "print(\"Hello, 'Abhishek'\")"
   ]
  },
  {
   "cell_type": "code",
   "execution_count": 9,
   "id": "f9ba44bb-091d-4363-9671-5931c1257f69",
   "metadata": {},
   "outputs": [
    {
     "name": "stdout",
     "output_type": "stream",
     "text": [
      "The Zen of Python, by Tim Peters\n",
      "\n",
      "Beautiful is better than ugly.\n",
      "Explicit is better than implicit.\n",
      "Simple is better than complex.\n",
      "Complex is better than complicated.\n",
      "Flat is better than nested.\n",
      "Sparse is better than dense.\n",
      "Readability counts.\n",
      "Special cases aren't special enough to break the rules.\n",
      "Although practicality beats purity.\n",
      "Errors should never pass silently.\n",
      "Unless explicitly silenced.\n",
      "In the face of ambiguity, refuse the temptation to guess.\n",
      "There should be one-- and preferably only one --obvious way to do it.\n",
      "Although that way may not be obvious at first unless you're Dutch.\n",
      "Now is better than never.\n",
      "Although never is often better than *right* now.\n",
      "If the implementation is hard to explain, it's a bad idea.\n",
      "If the implementation is easy to explain, it may be a good idea.\n",
      "Namespaces are one honking great idea -- let's do more of those!\n"
     ]
    }
   ],
   "source": [
    "import this"
   ]
  },
  {
   "cell_type": "code",
   "execution_count": 10,
   "id": "21098224-4f43-44f6-bcc4-cc7560e87b1e",
   "metadata": {},
   "outputs": [],
   "source": [
    "lines = '''Beautiful is better than ugly.\n",
    "Explicit is better than implicit.\n",
    "Simple is better than complex.\n",
    "Complex is better than complicated.\n",
    "Flat is better than nested.\n",
    "Sparse is better than dense.\n",
    "Readability counts.''' "
   ]
  },
  {
   "cell_type": "code",
   "execution_count": 12,
   "id": "963ff744-2841-4b40-92d1-5f9067c8fe3e",
   "metadata": {},
   "outputs": [
    {
     "name": "stdout",
     "output_type": "stream",
     "text": [
      "Beautiful is better than ugly.\n",
      "Explicit is better than implicit.\n",
      "Simple is better than complex.\n",
      "Complex is better than complicated.\n",
      "Flat is better than nested.\n",
      "Sparse is better than dense.\n",
      "Readability counts.\n"
     ]
    }
   ],
   "source": [
    "print(lines)"
   ]
  },
  {
   "cell_type": "code",
   "execution_count": 13,
   "id": "7bd21f2a-b51f-4c2e-95f8-6f520b8af586",
   "metadata": {},
   "outputs": [
    {
     "data": {
      "text/plain": [
       "'A'"
      ]
     },
     "execution_count": 13,
     "metadata": {},
     "output_type": "execute_result"
    }
   ],
   "source": [
    "Name[0]"
   ]
  },
  {
   "cell_type": "code",
   "execution_count": 15,
   "id": "09003159-5fda-4dc4-aa61-d40938d8f998",
   "metadata": {},
   "outputs": [
    {
     "data": {
      "text/plain": [
       "8"
      ]
     },
     "execution_count": 15,
     "metadata": {},
     "output_type": "execute_result"
    }
   ],
   "source": [
    "len(Name)"
   ]
  },
  {
   "cell_type": "code",
   "execution_count": 17,
   "id": "41c6eac6-514e-4f72-a322-5de8d8f6cd98",
   "metadata": {},
   "outputs": [
    {
     "data": {
      "text/plain": [
       "'Abhi'"
      ]
     },
     "execution_count": 17,
     "metadata": {},
     "output_type": "execute_result"
    }
   ],
   "source": [
    "# Slicing --> [ Start : End ] --> including start and excluding end.\n",
    "# +ve indexing\n",
    "Name[0:4]"
   ]
  },
  {
   "cell_type": "code",
   "execution_count": 18,
   "id": "caeb8245-210b-47c2-81ae-31ea44ad939f",
   "metadata": {},
   "outputs": [
    {
     "data": {
      "text/plain": [
       "'Abhi'"
      ]
     },
     "execution_count": 18,
     "metadata": {},
     "output_type": "execute_result"
    }
   ],
   "source": [
    "# -ve indexing\n",
    "Name[-8:-4]"
   ]
  },
  {
   "cell_type": "code",
   "execution_count": 20,
   "id": "eec272a1-3e1b-41ef-b137-1389c2a688d1",
   "metadata": {},
   "outputs": [
    {
     "name": "stdout",
     "output_type": "stream",
     "text": [
      "Abhi\n",
      "Abhi\n"
     ]
    }
   ],
   "source": [
    "print(Name[:-4])\n",
    "print(Name[:4])"
   ]
  },
  {
   "cell_type": "code",
   "execution_count": 28,
   "id": "df53e20b-5058-401e-b814-e1738d54b2d4",
   "metadata": {},
   "outputs": [
    {
     "name": "stdout",
     "output_type": "stream",
     "text": [
      "shek\n",
      "shek\n"
     ]
    }
   ],
   "source": [
    "print(Name[-4:])\n",
    "print(Name[4:])"
   ]
  },
  {
   "cell_type": "code",
   "execution_count": 30,
   "id": "ddcba0b6-0710-4698-a9bf-18bb5fcccb44",
   "metadata": {},
   "outputs": [
    {
     "data": {
      "text/plain": [
       "'Abhishek'"
      ]
     },
     "execution_count": 30,
     "metadata": {},
     "output_type": "execute_result"
    }
   ],
   "source": [
    "Name"
   ]
  },
  {
   "cell_type": "code",
   "execution_count": 34,
   "id": "a7258bc0-1e0f-4a90-b74b-05e74c3ff270",
   "metadata": {},
   "outputs": [
    {
     "data": {
      "text/plain": [
       "'his'"
      ]
     },
     "execution_count": 34,
     "metadata": {},
     "output_type": "execute_result"
    }
   ],
   "source": [
    "Name[-6:-3]"
   ]
  },
  {
   "cell_type": "code",
   "execution_count": 31,
   "id": "53b05d5a-3740-40b5-bc72-23766ad0936b",
   "metadata": {},
   "outputs": [
    {
     "data": {
      "text/plain": [
       "'his'"
      ]
     },
     "execution_count": 31,
     "metadata": {},
     "output_type": "execute_result"
    }
   ],
   "source": [
    "Name[2:5]"
   ]
  },
  {
   "cell_type": "code",
   "execution_count": 41,
   "id": "e4e37bab-ac4f-451b-a533-a85e615105ff",
   "metadata": {},
   "outputs": [
    {
     "name": "stdout",
     "output_type": "stream",
     "text": [
      "A\n",
      "b\n",
      "h\n",
      "i\n",
      "s\n",
      "h\n",
      "e\n",
      "k\n"
     ]
    }
   ],
   "source": [
    "# looping through string means printing everything\n",
    "\n",
    "\n",
    "for S in Name:\n",
    "    print(S)"
   ]
  },
  {
   "cell_type": "code",
   "execution_count": 42,
   "id": "7b8eae63-acf5-413b-ab83-d8fc755d7a6c",
   "metadata": {},
   "outputs": [
    {
     "name": "stdout",
     "output_type": "stream",
     "text": [
      "True\n"
     ]
    }
   ],
   "source": [
    "txt = \"The best things in life are not free!\"\n",
    "print(\"free\" in txt)"
   ]
  },
  {
   "cell_type": "code",
   "execution_count": 43,
   "id": "092103a8-2ce7-4bb2-bfe0-56666e82caae",
   "metadata": {},
   "outputs": [],
   "source": [
    "name = 'amit'"
   ]
  },
  {
   "cell_type": "code",
   "execution_count": 47,
   "id": "0409975a-b1b1-42f3-95f9-3114cd28d908",
   "metadata": {},
   "outputs": [
    {
     "name": "stdout",
     "output_type": "stream",
     "text": [
      "AMIT\n",
      "AMIT\n"
     ]
    }
   ],
   "source": [
    "name_1 = name.upper()\n",
    "print(name_1)\n",
    "\n",
    "print(name.upper())"
   ]
  },
  {
   "cell_type": "code",
   "execution_count": 48,
   "id": "d9d800ef-588b-4926-a780-e5be97a1df50",
   "metadata": {},
   "outputs": [
    {
     "name": "stdout",
     "output_type": "stream",
     "text": [
      "amit\n"
     ]
    }
   ],
   "source": [
    "print(name.lower())"
   ]
  },
  {
   "cell_type": "code",
   "execution_count": 52,
   "id": "35fd92b9-5385-4090-8fce-edaf26111f9f",
   "metadata": {},
   "outputs": [
    {
     "data": {
      "text/plain": [
       "'japreet'"
      ]
     },
     "execution_count": 52,
     "metadata": {},
     "output_type": "execute_result"
    }
   ],
   "source": [
    "name_2 = \"       japreet                   \"\n",
    "\n",
    "n_1 = name_2.strip()\n",
    "n_1"
   ]
  }
 ],
 "metadata": {
  "kernelspec": {
   "display_name": "Python 3 (ipykernel)",
   "language": "python",
   "name": "python3"
  },
  "language_info": {
   "codemirror_mode": {
    "name": "ipython",
    "version": 3
   },
   "file_extension": ".py",
   "mimetype": "text/x-python",
   "name": "python",
   "nbconvert_exporter": "python",
   "pygments_lexer": "ipython3",
   "version": "3.11.7"
  }
 },
 "nbformat": 4,
 "nbformat_minor": 5
}
