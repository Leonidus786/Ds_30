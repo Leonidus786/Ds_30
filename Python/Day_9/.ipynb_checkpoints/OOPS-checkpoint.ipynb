{
 "cells": [
  {
   "cell_type": "markdown",
   "id": "d05a987c-95ed-4769-aeea-d13bf7c373f1",
   "metadata": {},
   "source": [
    "# meaning of oops\n",
    "\n",
    "##  The main aim of OOP is to bind together the data and the functions that operate on them so that no other part of the code can access this data except that function."
   ]
  },
  {
   "cell_type": "code",
   "execution_count": 4,
   "id": "b3a81008-1267-4877-a569-7d44b5a1ab48",
   "metadata": {},
   "outputs": [
    {
     "name": "stdout",
     "output_type": "stream",
     "text": [
      "<class '__main__.MyClass'>\n"
     ]
    }
   ],
   "source": [
    "# creating or defining a class\n",
    "class MyClass:\n",
    "  x = 5\n",
    "\n",
    "print(MyClass)"
   ]
  },
  {
   "cell_type": "code",
   "execution_count": 5,
   "id": "af5e8b8c-bc6b-42f2-9e1f-c1406d2836c6",
   "metadata": {},
   "outputs": [
    {
     "name": "stdout",
     "output_type": "stream",
     "text": [
      "5\n"
     ]
    }
   ],
   "source": [
    "# Creating a object of MyClass\n",
    "p1 = MyClass()\n",
    "print(p1.x)"
   ]
  },
  {
   "cell_type": "code",
   "execution_count": 11,
   "id": "1980868f-3e36-49a8-815d-fd1ae84e6f57",
   "metadata": {},
   "outputs": [],
   "source": [
    "class Person:\n",
    "  def __init__(self, name, age, salary):\n",
    "    self.name = name\n",
    "    self.age = age\n",
    "    self.salary = salary"
   ]
  },
  {
   "cell_type": "code",
   "execution_count": 14,
   "id": "07da6ccb-2fd2-4ef5-accd-9cb4d3ff441e",
   "metadata": {},
   "outputs": [],
   "source": [
    "p1 = Person(\"John\", 36, 15000)"
   ]
  },
  {
   "cell_type": "code",
   "execution_count": 15,
   "id": "3a6c1833-8b47-4619-b44b-0c3e5e0a0401",
   "metadata": {},
   "outputs": [
    {
     "name": "stdout",
     "output_type": "stream",
     "text": [
      "John\n",
      "36\n",
      "15000\n"
     ]
    }
   ],
   "source": [
    "print(p1.name)\n",
    "print(p1.age)\n",
    "print(p1.salary)"
   ]
  },
  {
   "cell_type": "code",
   "execution_count": 16,
   "id": "94fc4f96-cfc0-4d3e-b58a-22a19cc59658",
   "metadata": {},
   "outputs": [
    {
     "ename": "TypeError",
     "evalue": "Person.__init__() missing 2 required positional arguments: 'age' and 'salary'",
     "output_type": "error",
     "traceback": [
      "\u001b[1;31m---------------------------------------------------------------------------\u001b[0m",
      "\u001b[1;31mTypeError\u001b[0m                                 Traceback (most recent call last)",
      "Cell \u001b[1;32mIn[16], line 1\u001b[0m\n\u001b[1;32m----> 1\u001b[0m p2 \u001b[38;5;241m=\u001b[39m Person(\u001b[38;5;124m\"\u001b[39m\u001b[38;5;124mAmit\u001b[39m\u001b[38;5;124m\"\u001b[39m)\n",
      "\u001b[1;31mTypeError\u001b[0m: Person.__init__() missing 2 required positional arguments: 'age' and 'salary'"
     ]
    }
   ],
   "source": [
    "p2 = Person(\"Amit\")"
   ]
  },
  {
   "cell_type": "code",
   "execution_count": 17,
   "id": "7da88d93-5d49-4269-99c5-4a0d88154f91",
   "metadata": {},
   "outputs": [
    {
     "ename": "TypeError",
     "evalue": "Person.__init__() missing 1 required positional argument: 'salary'",
     "output_type": "error",
     "traceback": [
      "\u001b[1;31m---------------------------------------------------------------------------\u001b[0m",
      "\u001b[1;31mTypeError\u001b[0m                                 Traceback (most recent call last)",
      "Cell \u001b[1;32mIn[17], line 1\u001b[0m\n\u001b[1;32m----> 1\u001b[0m p2 \u001b[38;5;241m=\u001b[39m Person(\u001b[38;5;124m\"\u001b[39m\u001b[38;5;124mAmit\u001b[39m\u001b[38;5;124m\"\u001b[39m,\u001b[38;5;241m30\u001b[39m)\n",
      "\u001b[1;31mTypeError\u001b[0m: Person.__init__() missing 1 required positional argument: 'salary'"
     ]
    }
   ],
   "source": [
    "p2 = Person(\"Amit\",30)"
   ]
  },
  {
   "cell_type": "code",
   "execution_count": 18,
   "id": "63337b0f-42ce-4896-972a-9c2acd26c96e",
   "metadata": {},
   "outputs": [],
   "source": [
    "p2 = Person(\"Amit\", 30, 65000)"
   ]
  },
  {
   "cell_type": "code",
   "execution_count": 20,
   "id": "bf20cc25-b4ab-442e-bb7e-ae7f94120698",
   "metadata": {},
   "outputs": [
    {
     "data": {
      "text/plain": [
       "65000"
      ]
     },
     "execution_count": 20,
     "metadata": {},
     "output_type": "execute_result"
    }
   ],
   "source": [
    "p2.salary"
   ]
  },
  {
   "cell_type": "code",
   "execution_count": 21,
   "id": "35e0b94c-a078-400c-9fc1-5b58dfbf7925",
   "metadata": {},
   "outputs": [
    {
     "data": {
      "text/plain": [
       "'Amit'"
      ]
     },
     "execution_count": 21,
     "metadata": {},
     "output_type": "execute_result"
    }
   ],
   "source": [
    "p2.name"
   ]
  },
  {
   "cell_type": "code",
   "execution_count": 22,
   "id": "4bf8ccde-1af4-4d99-b004-433a609ba84e",
   "metadata": {},
   "outputs": [
    {
     "name": "stdout",
     "output_type": "stream",
     "text": [
      "<__main__.Person object at 0x000001F09EEA3990>\n"
     ]
    }
   ],
   "source": [
    "class Person:\n",
    "  def __init__(self, name, age):\n",
    "    self.name = name\n",
    "    self.age = age\n",
    "\n",
    "p1 = Person(\"John\", 36)\n",
    "\n",
    "print(p1)"
   ]
  },
  {
   "cell_type": "code",
   "execution_count": 23,
   "id": "679a3b2f-1c4d-497a-8d63-222ae7fa9e18",
   "metadata": {},
   "outputs": [
    {
     "name": "stdout",
     "output_type": "stream",
     "text": [
      "John(36)\n"
     ]
    }
   ],
   "source": [
    "class Person:\n",
    "  def __init__(self, name, age):\n",
    "    self.name = name\n",
    "    self.age = age\n",
    "\n",
    "  def __str__(self):\n",
    "    return f\"{self.name}({self.age})\"\n",
    "\n",
    "p1 = Person(\"John\", 36)\n",
    "\n",
    "print(p1)"
   ]
  },
  {
   "cell_type": "code",
   "execution_count": 24,
   "id": "bb0b724e-0d00-47ea-8971-63ca0ef29f4f",
   "metadata": {},
   "outputs": [
    {
     "name": "stdout",
     "output_type": "stream",
     "text": [
      "Hello my name is John\n"
     ]
    }
   ],
   "source": [
    "class Person:\n",
    "  def __init__(self, name, age):\n",
    "    self.name = name\n",
    "    self.age = age\n",
    "\n",
    "  def myfunc(self):\n",
    "    print(\"Hello my name is \" + self.name)\n",
    "\n",
    "p1 = Person(\"John\", 36)\n",
    "p1.myfunc()"
   ]
  }
 ],
 "metadata": {
  "kernelspec": {
   "display_name": "Python 3 (ipykernel)",
   "language": "python",
   "name": "python3"
  },
  "language_info": {
   "codemirror_mode": {
    "name": "ipython",
    "version": 3
   },
   "file_extension": ".py",
   "mimetype": "text/x-python",
   "name": "python",
   "nbconvert_exporter": "python",
   "pygments_lexer": "ipython3",
   "version": "3.11.7"
  }
 },
 "nbformat": 4,
 "nbformat_minor": 5
}
