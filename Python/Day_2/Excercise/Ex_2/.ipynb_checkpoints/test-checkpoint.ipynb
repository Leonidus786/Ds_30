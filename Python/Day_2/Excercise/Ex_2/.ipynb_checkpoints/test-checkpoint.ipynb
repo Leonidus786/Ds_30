{
 "cells": [
  {
   "cell_type": "code",
   "execution_count": null,
   "id": "7387c218-7dc8-49ea-a027-0512cf3b40c6",
   "metadata": {},
   "outputs": [],
   "source": [
    "# 1st input: enter height in meters e.g: 1.65\n",
    "height = input()\n",
    "# 2nd input: enter weight in kilograms e.g: 72\n",
    "weight = input()\n",
    "# 🚨 Don't change the code above 👆\n",
    "\n",
    "# Write your code below this line 👇\n"
   ]
  }
 ],
 "metadata": {
  "kernelspec": {
   "display_name": "Python 3 (ipykernel)",
   "language": "python",
   "name": "python3"
  },
  "language_info": {
   "codemirror_mode": {
    "name": "ipython",
    "version": 3
   },
   "file_extension": ".py",
   "mimetype": "text/x-python",
   "name": "python",
   "nbconvert_exporter": "python",
   "pygments_lexer": "ipython3",
   "version": "3.11.7"
  }
 },
 "nbformat": 4,
 "nbformat_minor": 5
}
