{
 "cells": [
  {
   "cell_type": "code",
   "execution_count": 1,
   "id": "607096c5-9c52-4187-a975-31d1fbd63ccd",
   "metadata": {},
   "outputs": [
    {
     "data": {
      "text/plain": [
       "0.3333333333333333"
      ]
     },
     "execution_count": 1,
     "metadata": {},
     "output_type": "execute_result"
    }
   ],
   "source": [
    "3/9"
   ]
  },
  {
   "cell_type": "code",
   "execution_count": 2,
   "id": "77cf7cd2-0d33-4981-917f-72b8737aaff2",
   "metadata": {},
   "outputs": [
    {
     "data": {
      "text/plain": [
       "0"
      ]
     },
     "execution_count": 2,
     "metadata": {},
     "output_type": "execute_result"
    }
   ],
   "source": [
    "int(3/9)"
   ]
  },
  {
   "cell_type": "code",
   "execution_count": 10,
   "id": "4fdce0e0-6ef2-4f4e-8fe1-2321e6bc1744",
   "metadata": {},
   "outputs": [],
   "source": [
    "# In the last challenge where we calculated the BMI, you saw how when we had a number that had a long list of numbers after the decimal point. \n",
    "# For example, if I had divided 8 by 3 and I print this out, you'll see that the value is 2.666666 and if we had just turned this 8 divided by 3 into an integer, right now it's a floating point number,\n",
    "# but if I convert it into an integer, you'll see that all it does is it just chops off everything after the decimal point. \n",
    "# Instead of what we would traditionally do, which is to round the number.\n",
    "# So if it's 2.5 it would go to 3, if it's 2.4 it would go down to 2.\n",
    "# Now in Python it's super easy to round numbers.\n",
    "# All you have to do is to use the round function like this. \n",
    "# If we write round(8 / 3) then it's going to round it into a whole number and you'll see that instead of 2 we actually get 3 now\n",
    "# because 2.6 recurring becomes 3. Now if you wanted to, you can actually go a step further.\n",
    "# You can specify the number of digits of precision you want to round it to.\n",
    "# So if I said I want to round it to two decimal places, then I could write (8 / 3, 2) and then the number of places that I want around it to.\n",
    "# So now our 2.666 recurring becomes 2.67 because I said we should round it to 2 decimal places. So if it makes it easier,\n",
    "# it might be easier if I write it like this. \n",
    "# So 2.666666666 and I'm going to round it to two decimal places and again, I get the same result, 2.67. \n",
    "# Now another way of modifying numbers is instead of dividing, say 8 / 3, we can also use the floor division, so where you have two forward lashes instead of just one.\n",
    "# Now we know that whenever we divide any number by any other number, the result always gets turned into a floating point number.\n",
    "# Now if you didn't want that and you just wanted an integer, so a whole number chopping off all the numbers after the decimal in place,\n",
    "# you can just use the floor division like this.\n",
    "# And in this case, you would get 2 straight away without having to convert it into an integer.\n",
    "# And in fact, if I go ahead and check the data type of the result of this calculation, you'll see that it's actually an integer\n",
    "# whereas if I had just used the single, um, forward slash division, then I get a floating point number with decimal places.\n",
    "# Even if this is a clean division, say 4 / 2, this is still going to become a floating point number and the number is going to be represented like this, 2.0, like so.\n",
    "# Now if we had saved the results of this calculation into a variable instead, then one of the things that you can actually do is to continue performing\n",
    "# calculations on this variable. So for example, I could do 4 / 2, which is going to be equal to 2. But then if I want to divide it by the 2 again,\n",
    "# I could actually say result /= 2. And when I now print results, I'll actually get 1 because it's 4 / 2 then divided by 2 again.\n",
    "# Now very often when you're writing code, say for example if you're keeping track of the user's score,\n",
    "# so you could have score = 0 to begin with and every single time in your code say a user scores a point,\n",
    "# then you can get hold of this score variable again and instead of saying score now equals the previous value of score plus one,\n",
    "# you can simply use this shorthand, +=, so +=1. And now when we print score, you'll see that it's actually equal to 1.\n",
    "# So instead of using +=, you can use -=, which just takes the previous version of score and removes 1 from it.\n",
    "#  *= and /=.So this is really handy when you have to manipulate a value based on its previous value, which you'll have to do a lot in programming.\n",
    "\n",
    "# print(8/3)\n",
    "\n",
    "\n",
    "# print(int(8/3))\n",
    "\n",
    "# round()\n",
    "# print(round(8/3))\n",
    "# print(round(8/3,4))\n",
    "# print(round(2.6666666,2))\n",
    "# print(8//3)\n",
    "# print(type(8//3))\n",
    "# print(type(8/3))\n",
    "\n",
    "# result = 4 / 2\n",
    "# result /= 2\n",
    "# print(result)\n",
    "\n",
    "# score = 0\n",
    "\n",
    "# score = score + 1\n",
    "# score += 1\n",
    "# score -= 1\n",
    "\n",
    "# print(score)\n",
    "\n",
    "\n",
    "# Now the final thing I want to show you is something called F strings and this\n",
    "# makes it really easy to mix strings and different data types.\n",
    "# So far, up to this point,if we wanted to print, something like your score is,\n",
    "# and then we wanted to print the score we have to write plus, but of course because these are different data types,\n",
    "# this is a string and this is an integer, we got a type error.\n",
    "\n",
    "# print(\"Your score is \" + score)\n",
    "\n",
    "# So we've had to convert this into a string before it will actually successfully\n",
    "# print when both the datatypes match.\n",
    "\n",
    "# print(\"Your score is \" + str(score))\n",
    "\n",
    "# Now this is quite painful and understandably a lot of programmers will need some\n",
    "# slightly more convenient way of incorporating things that have different data types.\n",
    "# Let's say um, the score is equal to zero.\n",
    "# let's say the height is equal to 1.8 and isWinning is equal to true.\n",
    "# So here we've got a integer, a float, and a boolean, and we want to mix it all into a sentence that is a string and get it printed out.\n",
    "# So instead of having to convert all of these and use a whole bunch of plus\n",
    "# signs and then you have to convert everything into a string, it's really, really painful, right?\n",
    "# So what we can do instead is use something in Python known as an F string.\n",
    "\n",
    "\n",
    "# score = 0\n",
    "# height = 1.8\n",
    "# isWinning = True\n",
    "\n",
    "\n",
    "# print(\"Your score is \" + str(score))\n",
    "#  f-string\n",
    "\n",
    "# And when an F string allows us to do is in front of a string like this one,\n",
    "# we type the character 'f' and it's really important that it goes in front of the\n",
    "# double quotes or a single quotes if you want to write your strings like this.\n",
    "# But I like to use double quotes and a lot of other Python programmers do too.\n",
    "# So essentially you're adding just the character f in front of the string,\n",
    "# and now this is an F string and you can start adding various values into this string.\n",
    "# So for example, if I wanted to write, your score is equal to this variable score,\n",
    "# then I can put that variable inside a set of curly braces like this.\n",
    "# And now when I print my string, this one right here, you'll see that it says your score is zero and it does all of the converting and\n",
    "# all of the stuff behind the scenes and you don't have to worry about any of this.\n",
    "# So if I want to continue along, I could say your score is this, your height is adding the height and then you are winning is then let's add\n",
    "# that final boolean value and get it to run.\n",
    "# You can see that our entire string now prints out your score is 0, your height is 1.8 you are winning is True.\n",
    "# So all of these different data types got combined into a string by using an F in\n",
    "# front of the string and then using these curly braces to place our variables into this string.\n",
    "# By using f strings, you cut down on a lot of the manual labor of inserting different data types into a string.\n",
    "# \n",
    "\n",
    "\n",
    "# print(f\"Your score is {score}, your height is {height}, you are winning is {isWinning}\")"
   ]
  }
 ],
 "metadata": {
  "kernelspec": {
   "display_name": "Python 3 (ipykernel)",
   "language": "python",
   "name": "python3"
  },
  "language_info": {
   "codemirror_mode": {
    "name": "ipython",
    "version": 3
   },
   "file_extension": ".py",
   "mimetype": "text/x-python",
   "name": "python",
   "nbconvert_exporter": "python",
   "pygments_lexer": "ipython3",
   "version": "3.11.7"
  }
 },
 "nbformat": 4,
 "nbformat_minor": 5
}
