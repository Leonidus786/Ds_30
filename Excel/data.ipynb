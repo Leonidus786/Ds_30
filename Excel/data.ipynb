{
 "cells": [
  {
   "cell_type": "code",
   "execution_count": 2,
   "id": "f365885a-b3de-482a-9a24-a48b2e1358ab",
   "metadata": {},
   "outputs": [
    {
     "name": "stdout",
     "output_type": "stream",
     "text": [
      "Defaulting to user installation because normal site-packages is not writeable\n",
      "Collecting xlsxwriter\n",
      "  Downloading XlsxWriter-3.2.0-py3-none-any.whl.metadata (2.6 kB)\n",
      "Downloading XlsxWriter-3.2.0-py3-none-any.whl (159 kB)\n",
      "   ---------------------------------------- 0.0/159.9 kB ? eta -:--:--\n",
      "   ---------------------------------------- 0.0/159.9 kB ? eta -:--:--\n",
      "   ------- ------------------------------- 30.7/159.9 kB 660.6 kB/s eta 0:00:01\n",
      "   ---------------------------------------- 159.9/159.9 kB 1.9 MB/s eta 0:00:00\n",
      "Installing collected packages: xlsxwriter\n",
      "Successfully installed xlsxwriter-3.2.0\n",
      "Note: you may need to restart the kernel to use updated packages.\n"
     ]
    }
   ],
   "source": [
    "pip install xlsxwriter"
   ]
  },
  {
   "cell_type": "code",
   "execution_count": 3,
   "id": "4358e483-5c61-41c3-b566-ba5cc0f32ccd",
   "metadata": {},
   "outputs": [
    {
     "data": {
      "text/plain": [
       "'D:/Ds_30/Excel/Burger_Sales_Stock_Summary.xlsx'"
      ]
     },
     "execution_count": 3,
     "metadata": {},
     "output_type": "execute_result"
    }
   ],
   "source": [
    "import pandas as pd\n",
    "\n",
    "# Creating data for the Sales Sheet\n",
    "sales_data = {\n",
    "    'Date': ['2024-10-01', '2024-10-02'],\n",
    "    'Burgers Sold': [50, 45]\n",
    "}\n",
    "\n",
    "# Creating data for the Stock Sheet\n",
    "stock_data = {\n",
    "    'Date': ['2024-10-01', '2024-10-02'],\n",
    "    'Initial Stock': [100, 50],\n",
    "    'Burgers Sold': ['=Sales!B2', '=Sales!B3'],\n",
    "    'Stock Left': ['=B2-C2', '=B3-C3']\n",
    "}\n",
    "\n",
    "# Creating data for the Summary Sheet\n",
    "summary_data = {\n",
    "    'Date': ['2024-10-01', '2024-10-02'],\n",
    "    'Total Burgers Sold': ['=Sales!B2', '=Sales!B3'],\n",
    "    'Stock Left': ['=Stock!D2', '=Stock!D3']\n",
    "}\n",
    "\n",
    "# Convert the data into pandas DataFrames\n",
    "sales_df = pd.DataFrame(sales_data)\n",
    "stock_df = pd.DataFrame(stock_data)\n",
    "summary_df = pd.DataFrame(summary_data)\n",
    "\n",
    "# Creating an Excel writer to save the sheets\n",
    "file_path = 'D:/Ds_30/Excel/Burger_Sales_Stock_Summary.xlsx'\n",
    "with pd.ExcelWriter(file_path, engine='xlsxwriter') as writer:\n",
    "    # Write each dataframe to a different worksheet.\n",
    "    sales_df.to_excel(writer, sheet_name='Sales', index=False)\n",
    "    stock_df.to_excel(writer, sheet_name='Stock', index=False)\n",
    "    summary_df.to_excel(writer, sheet_name='Summary', index=False)\n",
    "\n",
    "file_path\n"
   ]
  },
  {
   "cell_type": "code",
   "execution_count": null,
   "id": "cab78d63-daac-4ee6-8f80-0c200ac06d8e",
   "metadata": {},
   "outputs": [],
   "source": []
  }
 ],
 "metadata": {
  "kernelspec": {
   "display_name": "Python 3 (ipykernel)",
   "language": "python",
   "name": "python3"
  },
  "language_info": {
   "codemirror_mode": {
    "name": "ipython",
    "version": 3
   },
   "file_extension": ".py",
   "mimetype": "text/x-python",
   "name": "python",
   "nbconvert_exporter": "python",
   "pygments_lexer": "ipython3",
   "version": "3.11.7"
  }
 },
 "nbformat": 4,
 "nbformat_minor": 5
}
