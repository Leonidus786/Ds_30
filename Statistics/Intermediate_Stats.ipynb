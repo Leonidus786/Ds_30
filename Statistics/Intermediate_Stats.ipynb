{
 "cells": [
  {
   "cell_type": "markdown",
   "id": "4d601c4f-b424-4b06-8a4a-8fe5a2d6a989",
   "metadata": {},
   "source": [
    "# Central Tendency\n",
    "## Refers to the measure used to determine the center of the distribution of data.\n",
    "\n",
    "1. Mean = Sum of all Observations ÷ Total number of Observations\n",
    "\n",
    "2. Median --> (i) Sort the numbers\n",
    "3. Median work better with outliers.\n",
    "4. Case 1: N is Odd\r\n",
    "\r\n",
    "Median = Value of observation at [(n + 1) ÷ 2]th Positi\n",
    "\n",
    "5. Case 2: N is Even\r\n",
    "\r\n",
    "Median = Arithmetic mean of Values of observations at (n ÷ 2)th and [(n ÷ 2) + 1]th Positionon"
   ]
  },
  {
   "cell_type": "markdown",
   "id": "6f6101fd-3f07-47b4-acec-d649334e0498",
   "metadata": {},
   "source": [
    "# Empirical Relation Between Measures of Central Tendency\n",
    "## 2 × Mean + Mode = 3 × Median"
   ]
  },
  {
   "cell_type": "markdown",
   "id": "8371964e-3eaa-42b0-b517-a7f83a8c1d5a",
   "metadata": {},
   "source": [
    "# Measure of dispersion \n",
    "In statistics, the measures of dispersion help to interpret the variability of data i.e. to know how much homogenous or heterogeneous the data is. In simple terms, it shows how squeezed or scattered the variable is.\n",
    "\n",
    "1. Variance: Deduct the mean from each data in the set, square each of them and add each square and finally divide them by the total no of values in the data set to get the variance. Variance (σ2) = ∑(X−μ)2/N\r",
    "2. \n",
    "Standard Deviation: The square root of the variance is known as the standard deviation i.e. S.D. = √σ."
   ]
  },
  {
   "cell_type": "markdown",
   "id": "a85684aa-bad6-49bf-bd5a-59037e56f628",
   "metadata": {},
   "source": [
    "# Percentile --> A percentile is a value below which a certain percentage of observations lie."
   ]
  },
  {
   "cell_type": "markdown",
   "id": "17a96786-01f0-4164-9973-0fa5930b6876",
   "metadata": {},
   "source": [
    "2,2,3,4,5,5,5,6,7,8,8,8,8,8,9,9,10,11,11,12\n",
    "\n",
    "## percentile rank of x = no. of values below x/total no. of values\n",
    "\n",
    "## What values exist at percentile rank of x% ?\n",
    "\n",
    "## Value = percentile(total no. of values + 1)/100"
   ]
  },
  {
   "cell_type": "markdown",
   "id": "d24b2b84-2f0a-4fe9-a2a6-98d2dcd67ae6",
   "metadata": {},
   "source": [
    "# Five Number Summary\n",
    "\n",
    "1. Minimum\n",
    "2. First Quartile\n",
    "3. Median\n",
    "4. Third Quartile\n",
    "5. Maximum"
   ]
  },
  {
   "cell_type": "code",
   "execution_count": null,
   "id": "0fa0f0cb-5c11-406b-b9e2-46ae87ad271e",
   "metadata": {},
   "outputs": [],
   "source": [
    "1,2,2,2,3,3,4,5,5,5,6,6,6,6,7,8,8,9,27"
   ]
  }
 ],
 "metadata": {
  "kernelspec": {
   "display_name": "Python 3 (ipykernel)",
   "language": "python",
   "name": "python3"
  },
  "language_info": {
   "codemirror_mode": {
    "name": "ipython",
    "version": 3
   },
   "file_extension": ".py",
   "mimetype": "text/x-python",
   "name": "python",
   "nbconvert_exporter": "python",
   "pygments_lexer": "ipython3",
   "version": "3.11.7"
  }
 },
 "nbformat": 4,
 "nbformat_minor": 5
}
